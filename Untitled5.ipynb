{
  "cells": [
    {
      "cell_type": "code",
      "execution_count": 2,
      "metadata": {
        "id": "YMp4UU7WhsCb"
      },
      "outputs": [
        {
          "name": "stdout",
          "output_type": "stream",
          "text": [
            "zsh:1: unknown username ''\n"
          ]
        }
      ],
      "source": [
        "![image.png](summer bootcamp .pdf)"
      ]
    },
    {
      "cell_type": "markdown",
      "metadata": {},
      "source": [
        "S "
      ]
    },
    {
      "cell_type": "code",
      "execution_count": null,
      "metadata": {},
      "outputs": [],
      "source": [
        "import pandas as pd\n",
        "import matplotlib.pyplot as plt\n",
        "import seaborn as sns\n",
        "import numpy as np"
      ]
    },
    {
      "cell_type": "code",
      "execution_count": null,
      "metadata": {
        "colab": {
          "base_uri": "https://localhost:8080/"
        },
        "id": "2hmB1Q0urqkh",
        "outputId": "217c53cc-21f0-4c77-b98d-3a2f837137c4"
      },
      "outputs": [
        {
          "name": "stdout",
          "output_type": "stream",
          "text": [
            "     Buyer/Spender Channel Region  Fresh   Milk  Grocery   Frozen  \\\n",
            "0                1  Retail  Other  12669   9656     7561    214.0   \n",
            "1                2  Retail  Other   7057   9810     9568   1762.0   \n",
            "2                3  Retail  Other      ?   8808     7684   2405.0   \n",
            "3                4   Hotel  Other  13265   1196     4221   6404.0   \n",
            "4                5  Retail  Other  22615   5410     7198   3915.0   \n",
            "..             ...     ...    ...    ...    ...      ...      ...   \n",
            "435            436   Hotel  Other  29703  12051    16027  13135.0   \n",
            "436            437   Hotel  Other  39228   1431      764   4510.0   \n",
            "437            438  Retail  Other  14531  15488    30243    437.0   \n",
            "438            439   Hotel  Other  10290   1981     2232   1038.0   \n",
            "439            440   Hotel  Other   2787   1698     2510     65.0   \n",
            "\n",
            "     Detergents_Paper  Delicatessen  \n",
            "0              2674.0        1338.0  \n",
            "1              3293.0        1776.0  \n",
            "2              3516.0        7844.0  \n",
            "3               507.0        1788.0  \n",
            "4              1777.0        5185.0  \n",
            "..                ...           ...  \n",
            "435             182.0        2204.0  \n",
            "436              93.0        2346.0  \n",
            "437           14841.0        1867.0  \n",
            "438             168.0        2125.0  \n",
            "439             477.0          52.0  \n",
            "\n",
            "[440 rows x 9 columns]\n"
          ]
        }
      ],
      "source": [
        "file_path = \"/content/4-Wholesale Customer_New.csv\"\n",
        "df = pd.read_csv(file_path)\n",
        "print(df)"
      ]
    },
    {
      "cell_type": "markdown",
      "metadata": {
        "id": "9VbisErrmQBr"
      },
      "source": [
        "**1 - DISPLAY TOP 5 ROWS**"
      ]
    },
    {
      "cell_type": "code",
      "execution_count": null,
      "metadata": {
        "colab": {
          "base_uri": "https://localhost:8080/",
          "height": 204
        },
        "id": "kFMfALK0jM-5",
        "outputId": "859302f1-b2fa-4431-b7e1-40a627680272"
      },
      "outputs": [
        {
          "data": {
            "application/vnd.google.colaboratory.intrinsic+json": {
              "summary": "{\n  \"name\": \"df\",\n  \"rows\": 440,\n  \"fields\": [\n    {\n      \"column\": \"Buyer/Spender\",\n      \"properties\": {\n        \"dtype\": \"number\",\n        \"std\": 127,\n        \"min\": 1,\n        \"max\": 440,\n        \"num_unique_values\": 440,\n        \"samples\": [\n          266,\n          79,\n          348\n        ],\n        \"semantic_type\": \"\",\n        \"description\": \"\"\n      }\n    },\n    {\n      \"column\": \"Channel\",\n      \"properties\": {\n        \"dtype\": \"category\",\n        \"num_unique_values\": 2,\n        \"samples\": [\n          \"Hotel\",\n          \"Retail\"\n        ],\n        \"semantic_type\": \"\",\n        \"description\": \"\"\n      }\n    },\n    {\n      \"column\": \"Region\",\n      \"properties\": {\n        \"dtype\": \"category\",\n        \"num_unique_values\": 3,\n        \"samples\": [\n          \"Other\",\n          \"Lisbon\"\n        ],\n        \"semantic_type\": \"\",\n        \"description\": \"\"\n      }\n    },\n    {\n      \"column\": \"Fresh\",\n      \"properties\": {\n        \"dtype\": \"string\",\n        \"num_unique_values\": 432,\n        \"samples\": [\n          \"21117\",\n          \"20398\"\n        ],\n        \"semantic_type\": \"\",\n        \"description\": \"\"\n      }\n    },\n    {\n      \"column\": \"Milk\",\n      \"properties\": {\n        \"dtype\": \"number\",\n        \"std\": 8964,\n        \"min\": 1,\n        \"max\": 112400,\n        \"num_unique_values\": 419,\n        \"samples\": [\n          780,\n          2102\n        ],\n        \"semantic_type\": \"\",\n        \"description\": \"\"\n      }\n    },\n    {\n      \"column\": \"Grocery\",\n      \"properties\": {\n        \"dtype\": \"number\",\n        \"std\": 9503,\n        \"min\": 3,\n        \"max\": 92780,\n        \"num_unique_values\": 430,\n        \"samples\": [\n          5160,\n          3\n        ],\n        \"semantic_type\": \"\",\n        \"description\": \"\"\n      }\n    },\n    {\n      \"column\": \"Frozen\",\n      \"properties\": {\n        \"dtype\": \"number\",\n        \"std\": 4867.744144575677,\n        \"min\": 25.0,\n        \"max\": 60869.0,\n        \"num_unique_values\": 424,\n        \"samples\": [\n          4052.0,\n          848.0\n        ],\n        \"semantic_type\": \"\",\n        \"description\": \"\"\n      }\n    },\n    {\n      \"column\": \"Detergents_Paper\",\n      \"properties\": {\n        \"dtype\": \"number\",\n        \"std\": 19364.886053384867,\n        \"min\": 3.0,\n        \"max\": 396100.0,\n        \"num_unique_values\": 416,\n        \"samples\": [\n          7.0,\n          6846.0\n        ],\n        \"semantic_type\": \"\",\n        \"description\": \"\"\n      }\n    },\n    {\n      \"column\": \"Delicatessen\",\n      \"properties\": {\n        \"dtype\": \"number\",\n        \"std\": 2825.044262253463,\n        \"min\": 3.0,\n        \"max\": 47943.0,\n        \"num_unique_values\": 402,\n        \"samples\": [\n          211.0,\n          172.0\n        ],\n        \"semantic_type\": \"\",\n        \"description\": \"\"\n      }\n    }\n  ]\n}",
              "type": "dataframe",
              "variable_name": "df"
            },
            "text/html": [
              "\n",
              "  <div id=\"df-6f2be6f1-eaa2-44df-bee2-1612c2880a90\" class=\"colab-df-container\">\n",
              "    <div>\n",
              "<style scoped>\n",
              "    .dataframe tbody tr th:only-of-type {\n",
              "        vertical-align: middle;\n",
              "    }\n",
              "\n",
              "    .dataframe tbody tr th {\n",
              "        vertical-align: top;\n",
              "    }\n",
              "\n",
              "    .dataframe thead th {\n",
              "        text-align: right;\n",
              "    }\n",
              "</style>\n",
              "<table border=\"1\" class=\"dataframe\">\n",
              "  <thead>\n",
              "    <tr style=\"text-align: right;\">\n",
              "      <th></th>\n",
              "      <th>Buyer/Spender</th>\n",
              "      <th>Channel</th>\n",
              "      <th>Region</th>\n",
              "      <th>Fresh</th>\n",
              "      <th>Milk</th>\n",
              "      <th>Grocery</th>\n",
              "      <th>Frozen</th>\n",
              "      <th>Detergents_Paper</th>\n",
              "      <th>Delicatessen</th>\n",
              "    </tr>\n",
              "  </thead>\n",
              "  <tbody>\n",
              "    <tr>\n",
              "      <th>0</th>\n",
              "      <td>1</td>\n",
              "      <td>Retail</td>\n",
              "      <td>Other</td>\n",
              "      <td>12669</td>\n",
              "      <td>9656</td>\n",
              "      <td>7561</td>\n",
              "      <td>214.0</td>\n",
              "      <td>2674.0</td>\n",
              "      <td>1338.0</td>\n",
              "    </tr>\n",
              "    <tr>\n",
              "      <th>1</th>\n",
              "      <td>2</td>\n",
              "      <td>Retail</td>\n",
              "      <td>Other</td>\n",
              "      <td>7057</td>\n",
              "      <td>9810</td>\n",
              "      <td>9568</td>\n",
              "      <td>1762.0</td>\n",
              "      <td>3293.0</td>\n",
              "      <td>1776.0</td>\n",
              "    </tr>\n",
              "    <tr>\n",
              "      <th>2</th>\n",
              "      <td>3</td>\n",
              "      <td>Retail</td>\n",
              "      <td>Other</td>\n",
              "      <td>?</td>\n",
              "      <td>8808</td>\n",
              "      <td>7684</td>\n",
              "      <td>2405.0</td>\n",
              "      <td>3516.0</td>\n",
              "      <td>7844.0</td>\n",
              "    </tr>\n",
              "    <tr>\n",
              "      <th>3</th>\n",
              "      <td>4</td>\n",
              "      <td>Hotel</td>\n",
              "      <td>Other</td>\n",
              "      <td>13265</td>\n",
              "      <td>1196</td>\n",
              "      <td>4221</td>\n",
              "      <td>6404.0</td>\n",
              "      <td>507.0</td>\n",
              "      <td>1788.0</td>\n",
              "    </tr>\n",
              "    <tr>\n",
              "      <th>4</th>\n",
              "      <td>5</td>\n",
              "      <td>Retail</td>\n",
              "      <td>Other</td>\n",
              "      <td>22615</td>\n",
              "      <td>5410</td>\n",
              "      <td>7198</td>\n",
              "      <td>3915.0</td>\n",
              "      <td>1777.0</td>\n",
              "      <td>5185.0</td>\n",
              "    </tr>\n",
              "  </tbody>\n",
              "</table>\n",
              "</div>\n",
              "    <div class=\"colab-df-buttons\">\n",
              "\n",
              "  <div class=\"colab-df-container\">\n",
              "    <button class=\"colab-df-convert\" onclick=\"convertToInteractive('df-6f2be6f1-eaa2-44df-bee2-1612c2880a90')\"\n",
              "            title=\"Convert this dataframe to an interactive table.\"\n",
              "            style=\"display:none;\">\n",
              "\n",
              "  <svg xmlns=\"http://www.w3.org/2000/svg\" height=\"24px\" viewBox=\"0 -960 960 960\">\n",
              "    <path d=\"M120-120v-720h720v720H120Zm60-500h600v-160H180v160Zm220 220h160v-160H400v160Zm0 220h160v-160H400v160ZM180-400h160v-160H180v160Zm440 0h160v-160H620v160ZM180-180h160v-160H180v160Zm440 0h160v-160H620v160Z\"/>\n",
              "  </svg>\n",
              "    </button>\n",
              "\n",
              "  <style>\n",
              "    .colab-df-container {\n",
              "      display:flex;\n",
              "      gap: 12px;\n",
              "    }\n",
              "\n",
              "    .colab-df-convert {\n",
              "      background-color: #E8F0FE;\n",
              "      border: none;\n",
              "      border-radius: 50%;\n",
              "      cursor: pointer;\n",
              "      display: none;\n",
              "      fill: #1967D2;\n",
              "      height: 32px;\n",
              "      padding: 0 0 0 0;\n",
              "      width: 32px;\n",
              "    }\n",
              "\n",
              "    .colab-df-convert:hover {\n",
              "      background-color: #E2EBFA;\n",
              "      box-shadow: 0px 1px 2px rgba(60, 64, 67, 0.3), 0px 1px 3px 1px rgba(60, 64, 67, 0.15);\n",
              "      fill: #174EA6;\n",
              "    }\n",
              "\n",
              "    .colab-df-buttons div {\n",
              "      margin-bottom: 4px;\n",
              "    }\n",
              "\n",
              "    [theme=dark] .colab-df-convert {\n",
              "      background-color: #3B4455;\n",
              "      fill: #D2E3FC;\n",
              "    }\n",
              "\n",
              "    [theme=dark] .colab-df-convert:hover {\n",
              "      background-color: #434B5C;\n",
              "      box-shadow: 0px 1px 3px 1px rgba(0, 0, 0, 0.15);\n",
              "      filter: drop-shadow(0px 1px 2px rgba(0, 0, 0, 0.3));\n",
              "      fill: #FFFFFF;\n",
              "    }\n",
              "  </style>\n",
              "\n",
              "    <script>\n",
              "      const buttonEl =\n",
              "        document.querySelector('#df-6f2be6f1-eaa2-44df-bee2-1612c2880a90 button.colab-df-convert');\n",
              "      buttonEl.style.display =\n",
              "        google.colab.kernel.accessAllowed ? 'block' : 'none';\n",
              "\n",
              "      async function convertToInteractive(key) {\n",
              "        const element = document.querySelector('#df-6f2be6f1-eaa2-44df-bee2-1612c2880a90');\n",
              "        const dataTable =\n",
              "          await google.colab.kernel.invokeFunction('convertToInteractive',\n",
              "                                                    [key], {});\n",
              "        if (!dataTable) return;\n",
              "\n",
              "        const docLinkHtml = 'Like what you see? Visit the ' +\n",
              "          '<a target=\"_blank\" href=https://colab.research.google.com/notebooks/data_table.ipynb>data table notebook</a>'\n",
              "          + ' to learn more about interactive tables.';\n",
              "        element.innerHTML = '';\n",
              "        dataTable['output_type'] = 'display_data';\n",
              "        await google.colab.output.renderOutput(dataTable, element);\n",
              "        const docLink = document.createElement('div');\n",
              "        docLink.innerHTML = docLinkHtml;\n",
              "        element.appendChild(docLink);\n",
              "      }\n",
              "    </script>\n",
              "  </div>\n",
              "\n",
              "\n",
              "<div id=\"df-78c69078-0514-4881-bf8e-5c9242a6cf1a\">\n",
              "  <button class=\"colab-df-quickchart\" onclick=\"quickchart('df-78c69078-0514-4881-bf8e-5c9242a6cf1a')\"\n",
              "            title=\"Suggest charts\"\n",
              "            style=\"display:none;\">\n",
              "\n",
              "<svg xmlns=\"http://www.w3.org/2000/svg\" height=\"24px\"viewBox=\"0 0 24 24\"\n",
              "     width=\"24px\">\n",
              "    <g>\n",
              "        <path d=\"M19 3H5c-1.1 0-2 .9-2 2v14c0 1.1.9 2 2 2h14c1.1 0 2-.9 2-2V5c0-1.1-.9-2-2-2zM9 17H7v-7h2v7zm4 0h-2V7h2v10zm4 0h-2v-4h2v4z\"/>\n",
              "    </g>\n",
              "</svg>\n",
              "  </button>\n",
              "\n",
              "<style>\n",
              "  .colab-df-quickchart {\n",
              "      --bg-color: #E8F0FE;\n",
              "      --fill-color: #1967D2;\n",
              "      --hover-bg-color: #E2EBFA;\n",
              "      --hover-fill-color: #174EA6;\n",
              "      --disabled-fill-color: #AAA;\n",
              "      --disabled-bg-color: #DDD;\n",
              "  }\n",
              "\n",
              "  [theme=dark] .colab-df-quickchart {\n",
              "      --bg-color: #3B4455;\n",
              "      --fill-color: #D2E3FC;\n",
              "      --hover-bg-color: #434B5C;\n",
              "      --hover-fill-color: #FFFFFF;\n",
              "      --disabled-bg-color: #3B4455;\n",
              "      --disabled-fill-color: #666;\n",
              "  }\n",
              "\n",
              "  .colab-df-quickchart {\n",
              "    background-color: var(--bg-color);\n",
              "    border: none;\n",
              "    border-radius: 50%;\n",
              "    cursor: pointer;\n",
              "    display: none;\n",
              "    fill: var(--fill-color);\n",
              "    height: 32px;\n",
              "    padding: 0;\n",
              "    width: 32px;\n",
              "  }\n",
              "\n",
              "  .colab-df-quickchart:hover {\n",
              "    background-color: var(--hover-bg-color);\n",
              "    box-shadow: 0 1px 2px rgba(60, 64, 67, 0.3), 0 1px 3px 1px rgba(60, 64, 67, 0.15);\n",
              "    fill: var(--button-hover-fill-color);\n",
              "  }\n",
              "\n",
              "  .colab-df-quickchart-complete:disabled,\n",
              "  .colab-df-quickchart-complete:disabled:hover {\n",
              "    background-color: var(--disabled-bg-color);\n",
              "    fill: var(--disabled-fill-color);\n",
              "    box-shadow: none;\n",
              "  }\n",
              "\n",
              "  .colab-df-spinner {\n",
              "    border: 2px solid var(--fill-color);\n",
              "    border-color: transparent;\n",
              "    border-bottom-color: var(--fill-color);\n",
              "    animation:\n",
              "      spin 1s steps(1) infinite;\n",
              "  }\n",
              "\n",
              "  @keyframes spin {\n",
              "    0% {\n",
              "      border-color: transparent;\n",
              "      border-bottom-color: var(--fill-color);\n",
              "      border-left-color: var(--fill-color);\n",
              "    }\n",
              "    20% {\n",
              "      border-color: transparent;\n",
              "      border-left-color: var(--fill-color);\n",
              "      border-top-color: var(--fill-color);\n",
              "    }\n",
              "    30% {\n",
              "      border-color: transparent;\n",
              "      border-left-color: var(--fill-color);\n",
              "      border-top-color: var(--fill-color);\n",
              "      border-right-color: var(--fill-color);\n",
              "    }\n",
              "    40% {\n",
              "      border-color: transparent;\n",
              "      border-right-color: var(--fill-color);\n",
              "      border-top-color: var(--fill-color);\n",
              "    }\n",
              "    60% {\n",
              "      border-color: transparent;\n",
              "      border-right-color: var(--fill-color);\n",
              "    }\n",
              "    80% {\n",
              "      border-color: transparent;\n",
              "      border-right-color: var(--fill-color);\n",
              "      border-bottom-color: var(--fill-color);\n",
              "    }\n",
              "    90% {\n",
              "      border-color: transparent;\n",
              "      border-bottom-color: var(--fill-color);\n",
              "    }\n",
              "  }\n",
              "</style>\n",
              "\n",
              "  <script>\n",
              "    async function quickchart(key) {\n",
              "      const quickchartButtonEl =\n",
              "        document.querySelector('#' + key + ' button');\n",
              "      quickchartButtonEl.disabled = true;  // To prevent multiple clicks.\n",
              "      quickchartButtonEl.classList.add('colab-df-spinner');\n",
              "      try {\n",
              "        const charts = await google.colab.kernel.invokeFunction(\n",
              "            'suggestCharts', [key], {});\n",
              "      } catch (error) {\n",
              "        console.error('Error during call to suggestCharts:', error);\n",
              "      }\n",
              "      quickchartButtonEl.classList.remove('colab-df-spinner');\n",
              "      quickchartButtonEl.classList.add('colab-df-quickchart-complete');\n",
              "    }\n",
              "    (() => {\n",
              "      let quickchartButtonEl =\n",
              "        document.querySelector('#df-78c69078-0514-4881-bf8e-5c9242a6cf1a button');\n",
              "      quickchartButtonEl.style.display =\n",
              "        google.colab.kernel.accessAllowed ? 'block' : 'none';\n",
              "    })();\n",
              "  </script>\n",
              "</div>\n",
              "\n",
              "    </div>\n",
              "  </div>\n"
            ],
            "text/plain": [
              "   Buyer/Spender Channel Region  Fresh  Milk  Grocery  Frozen  \\\n",
              "0              1  Retail  Other  12669  9656     7561   214.0   \n",
              "1              2  Retail  Other   7057  9810     9568  1762.0   \n",
              "2              3  Retail  Other      ?  8808     7684  2405.0   \n",
              "3              4   Hotel  Other  13265  1196     4221  6404.0   \n",
              "4              5  Retail  Other  22615  5410     7198  3915.0   \n",
              "\n",
              "   Detergents_Paper  Delicatessen  \n",
              "0            2674.0        1338.0  \n",
              "1            3293.0        1776.0  \n",
              "2            3516.0        7844.0  \n",
              "3             507.0        1788.0  \n",
              "4            1777.0        5185.0  "
            ]
          },
          "execution_count": 8,
          "metadata": {},
          "output_type": "execute_result"
        }
      ],
      "source": [
        "df.head()\n"
      ]
    },
    {
      "cell_type": "markdown",
      "metadata": {
        "id": "3rEioX8rmDCi"
      },
      "source": [
        "**2 - DISPLAY BOTTOM 5 ROWS**"
      ]
    },
    {
      "cell_type": "code",
      "execution_count": null,
      "metadata": {
        "colab": {
          "base_uri": "https://localhost:8080/",
          "height": 204
        },
        "id": "fCWKi-v7jX5l",
        "outputId": "ee46e786-1ae5-490a-887b-d59f119835d9"
      },
      "outputs": [
        {
          "data": {
            "application/vnd.google.colaboratory.intrinsic+json": {
              "summary": "{\n  \"name\": \"df\",\n  \"rows\": 5,\n  \"fields\": [\n    {\n      \"column\": \"Buyer/Spender\",\n      \"properties\": {\n        \"dtype\": \"number\",\n        \"std\": 1,\n        \"min\": 436,\n        \"max\": 440,\n        \"num_unique_values\": 5,\n        \"samples\": [\n          437,\n          440,\n          438\n        ],\n        \"semantic_type\": \"\",\n        \"description\": \"\"\n      }\n    },\n    {\n      \"column\": \"Channel\",\n      \"properties\": {\n        \"dtype\": \"category\",\n        \"num_unique_values\": 2,\n        \"samples\": [\n          \"Retail\",\n          \"Hotel\"\n        ],\n        \"semantic_type\": \"\",\n        \"description\": \"\"\n      }\n    },\n    {\n      \"column\": \"Region\",\n      \"properties\": {\n        \"dtype\": \"category\",\n        \"num_unique_values\": 1,\n        \"samples\": [\n          \"Other\"\n        ],\n        \"semantic_type\": \"\",\n        \"description\": \"\"\n      }\n    },\n    {\n      \"column\": \"Fresh\",\n      \"properties\": {\n        \"dtype\": \"string\",\n        \"num_unique_values\": 5,\n        \"samples\": [\n          \"39228\"\n        ],\n        \"semantic_type\": \"\",\n        \"description\": \"\"\n      }\n    },\n    {\n      \"column\": \"Milk\",\n      \"properties\": {\n        \"dtype\": \"number\",\n        \"std\": 6722,\n        \"min\": 1431,\n        \"max\": 15488,\n        \"num_unique_values\": 5,\n        \"samples\": [\n          1431\n        ],\n        \"semantic_type\": \"\",\n        \"description\": \"\"\n      }\n    },\n    {\n      \"column\": \"Grocery\",\n      \"properties\": {\n        \"dtype\": \"number\",\n        \"std\": 12720,\n        \"min\": 764,\n        \"max\": 30243,\n        \"num_unique_values\": 5,\n        \"samples\": [\n          764\n        ],\n        \"semantic_type\": \"\",\n        \"description\": \"\"\n      }\n    },\n    {\n      \"column\": \"Frozen\",\n      \"properties\": {\n        \"dtype\": \"number\",\n        \"std\": 5489.264932575217,\n        \"min\": 65.0,\n        \"max\": 13135.0,\n        \"num_unique_values\": 5,\n        \"samples\": [\n          4510.0\n        ],\n        \"semantic_type\": \"\",\n        \"description\": \"\"\n      }\n    },\n    {\n      \"column\": \"Detergents_Paper\",\n      \"properties\": {\n        \"dtype\": \"number\",\n        \"std\": 6535.881401922773,\n        \"min\": 93.0,\n        \"max\": 14841.0,\n        \"num_unique_values\": 5,\n        \"samples\": [\n          93.0\n        ],\n        \"semantic_type\": \"\",\n        \"description\": \"\"\n      }\n    },\n    {\n      \"column\": \"Delicatessen\",\n      \"properties\": {\n        \"dtype\": \"number\",\n        \"std\": 947.8901307641091,\n        \"min\": 52.0,\n        \"max\": 2346.0,\n        \"num_unique_values\": 5,\n        \"samples\": [\n          2346.0\n        ],\n        \"semantic_type\": \"\",\n        \"description\": \"\"\n      }\n    }\n  ]\n}",
              "type": "dataframe"
            },
            "text/html": [
              "\n",
              "  <div id=\"df-88197fad-c884-4a46-b7a3-c86eb2b55e36\" class=\"colab-df-container\">\n",
              "    <div>\n",
              "<style scoped>\n",
              "    .dataframe tbody tr th:only-of-type {\n",
              "        vertical-align: middle;\n",
              "    }\n",
              "\n",
              "    .dataframe tbody tr th {\n",
              "        vertical-align: top;\n",
              "    }\n",
              "\n",
              "    .dataframe thead th {\n",
              "        text-align: right;\n",
              "    }\n",
              "</style>\n",
              "<table border=\"1\" class=\"dataframe\">\n",
              "  <thead>\n",
              "    <tr style=\"text-align: right;\">\n",
              "      <th></th>\n",
              "      <th>Buyer/Spender</th>\n",
              "      <th>Channel</th>\n",
              "      <th>Region</th>\n",
              "      <th>Fresh</th>\n",
              "      <th>Milk</th>\n",
              "      <th>Grocery</th>\n",
              "      <th>Frozen</th>\n",
              "      <th>Detergents_Paper</th>\n",
              "      <th>Delicatessen</th>\n",
              "    </tr>\n",
              "  </thead>\n",
              "  <tbody>\n",
              "    <tr>\n",
              "      <th>435</th>\n",
              "      <td>436</td>\n",
              "      <td>Hotel</td>\n",
              "      <td>Other</td>\n",
              "      <td>29703</td>\n",
              "      <td>12051</td>\n",
              "      <td>16027</td>\n",
              "      <td>13135.0</td>\n",
              "      <td>182.0</td>\n",
              "      <td>2204.0</td>\n",
              "    </tr>\n",
              "    <tr>\n",
              "      <th>436</th>\n",
              "      <td>437</td>\n",
              "      <td>Hotel</td>\n",
              "      <td>Other</td>\n",
              "      <td>39228</td>\n",
              "      <td>1431</td>\n",
              "      <td>764</td>\n",
              "      <td>4510.0</td>\n",
              "      <td>93.0</td>\n",
              "      <td>2346.0</td>\n",
              "    </tr>\n",
              "    <tr>\n",
              "      <th>437</th>\n",
              "      <td>438</td>\n",
              "      <td>Retail</td>\n",
              "      <td>Other</td>\n",
              "      <td>14531</td>\n",
              "      <td>15488</td>\n",
              "      <td>30243</td>\n",
              "      <td>437.0</td>\n",
              "      <td>14841.0</td>\n",
              "      <td>1867.0</td>\n",
              "    </tr>\n",
              "    <tr>\n",
              "      <th>438</th>\n",
              "      <td>439</td>\n",
              "      <td>Hotel</td>\n",
              "      <td>Other</td>\n",
              "      <td>10290</td>\n",
              "      <td>1981</td>\n",
              "      <td>2232</td>\n",
              "      <td>1038.0</td>\n",
              "      <td>168.0</td>\n",
              "      <td>2125.0</td>\n",
              "    </tr>\n",
              "    <tr>\n",
              "      <th>439</th>\n",
              "      <td>440</td>\n",
              "      <td>Hotel</td>\n",
              "      <td>Other</td>\n",
              "      <td>2787</td>\n",
              "      <td>1698</td>\n",
              "      <td>2510</td>\n",
              "      <td>65.0</td>\n",
              "      <td>477.0</td>\n",
              "      <td>52.0</td>\n",
              "    </tr>\n",
              "  </tbody>\n",
              "</table>\n",
              "</div>\n",
              "    <div class=\"colab-df-buttons\">\n",
              "\n",
              "  <div class=\"colab-df-container\">\n",
              "    <button class=\"colab-df-convert\" onclick=\"convertToInteractive('df-88197fad-c884-4a46-b7a3-c86eb2b55e36')\"\n",
              "            title=\"Convert this dataframe to an interactive table.\"\n",
              "            style=\"display:none;\">\n",
              "\n",
              "  <svg xmlns=\"http://www.w3.org/2000/svg\" height=\"24px\" viewBox=\"0 -960 960 960\">\n",
              "    <path d=\"M120-120v-720h720v720H120Zm60-500h600v-160H180v160Zm220 220h160v-160H400v160Zm0 220h160v-160H400v160ZM180-400h160v-160H180v160Zm440 0h160v-160H620v160ZM180-180h160v-160H180v160Zm440 0h160v-160H620v160Z\"/>\n",
              "  </svg>\n",
              "    </button>\n",
              "\n",
              "  <style>\n",
              "    .colab-df-container {\n",
              "      display:flex;\n",
              "      gap: 12px;\n",
              "    }\n",
              "\n",
              "    .colab-df-convert {\n",
              "      background-color: #E8F0FE;\n",
              "      border: none;\n",
              "      border-radius: 50%;\n",
              "      cursor: pointer;\n",
              "      display: none;\n",
              "      fill: #1967D2;\n",
              "      height: 32px;\n",
              "      padding: 0 0 0 0;\n",
              "      width: 32px;\n",
              "    }\n",
              "\n",
              "    .colab-df-convert:hover {\n",
              "      background-color: #E2EBFA;\n",
              "      box-shadow: 0px 1px 2px rgba(60, 64, 67, 0.3), 0px 1px 3px 1px rgba(60, 64, 67, 0.15);\n",
              "      fill: #174EA6;\n",
              "    }\n",
              "\n",
              "    .colab-df-buttons div {\n",
              "      margin-bottom: 4px;\n",
              "    }\n",
              "\n",
              "    [theme=dark] .colab-df-convert {\n",
              "      background-color: #3B4455;\n",
              "      fill: #D2E3FC;\n",
              "    }\n",
              "\n",
              "    [theme=dark] .colab-df-convert:hover {\n",
              "      background-color: #434B5C;\n",
              "      box-shadow: 0px 1px 3px 1px rgba(0, 0, 0, 0.15);\n",
              "      filter: drop-shadow(0px 1px 2px rgba(0, 0, 0, 0.3));\n",
              "      fill: #FFFFFF;\n",
              "    }\n",
              "  </style>\n",
              "\n",
              "    <script>\n",
              "      const buttonEl =\n",
              "        document.querySelector('#df-88197fad-c884-4a46-b7a3-c86eb2b55e36 button.colab-df-convert');\n",
              "      buttonEl.style.display =\n",
              "        google.colab.kernel.accessAllowed ? 'block' : 'none';\n",
              "\n",
              "      async function convertToInteractive(key) {\n",
              "        const element = document.querySelector('#df-88197fad-c884-4a46-b7a3-c86eb2b55e36');\n",
              "        const dataTable =\n",
              "          await google.colab.kernel.invokeFunction('convertToInteractive',\n",
              "                                                    [key], {});\n",
              "        if (!dataTable) return;\n",
              "\n",
              "        const docLinkHtml = 'Like what you see? Visit the ' +\n",
              "          '<a target=\"_blank\" href=https://colab.research.google.com/notebooks/data_table.ipynb>data table notebook</a>'\n",
              "          + ' to learn more about interactive tables.';\n",
              "        element.innerHTML = '';\n",
              "        dataTable['output_type'] = 'display_data';\n",
              "        await google.colab.output.renderOutput(dataTable, element);\n",
              "        const docLink = document.createElement('div');\n",
              "        docLink.innerHTML = docLinkHtml;\n",
              "        element.appendChild(docLink);\n",
              "      }\n",
              "    </script>\n",
              "  </div>\n",
              "\n",
              "\n",
              "<div id=\"df-97d87fde-c43e-4c38-aa9f-e5c7aa3e9586\">\n",
              "  <button class=\"colab-df-quickchart\" onclick=\"quickchart('df-97d87fde-c43e-4c38-aa9f-e5c7aa3e9586')\"\n",
              "            title=\"Suggest charts\"\n",
              "            style=\"display:none;\">\n",
              "\n",
              "<svg xmlns=\"http://www.w3.org/2000/svg\" height=\"24px\"viewBox=\"0 0 24 24\"\n",
              "     width=\"24px\">\n",
              "    <g>\n",
              "        <path d=\"M19 3H5c-1.1 0-2 .9-2 2v14c0 1.1.9 2 2 2h14c1.1 0 2-.9 2-2V5c0-1.1-.9-2-2-2zM9 17H7v-7h2v7zm4 0h-2V7h2v10zm4 0h-2v-4h2v4z\"/>\n",
              "    </g>\n",
              "</svg>\n",
              "  </button>\n",
              "\n",
              "<style>\n",
              "  .colab-df-quickchart {\n",
              "      --bg-color: #E8F0FE;\n",
              "      --fill-color: #1967D2;\n",
              "      --hover-bg-color: #E2EBFA;\n",
              "      --hover-fill-color: #174EA6;\n",
              "      --disabled-fill-color: #AAA;\n",
              "      --disabled-bg-color: #DDD;\n",
              "  }\n",
              "\n",
              "  [theme=dark] .colab-df-quickchart {\n",
              "      --bg-color: #3B4455;\n",
              "      --fill-color: #D2E3FC;\n",
              "      --hover-bg-color: #434B5C;\n",
              "      --hover-fill-color: #FFFFFF;\n",
              "      --disabled-bg-color: #3B4455;\n",
              "      --disabled-fill-color: #666;\n",
              "  }\n",
              "\n",
              "  .colab-df-quickchart {\n",
              "    background-color: var(--bg-color);\n",
              "    border: none;\n",
              "    border-radius: 50%;\n",
              "    cursor: pointer;\n",
              "    display: none;\n",
              "    fill: var(--fill-color);\n",
              "    height: 32px;\n",
              "    padding: 0;\n",
              "    width: 32px;\n",
              "  }\n",
              "\n",
              "  .colab-df-quickchart:hover {\n",
              "    background-color: var(--hover-bg-color);\n",
              "    box-shadow: 0 1px 2px rgba(60, 64, 67, 0.3), 0 1px 3px 1px rgba(60, 64, 67, 0.15);\n",
              "    fill: var(--button-hover-fill-color);\n",
              "  }\n",
              "\n",
              "  .colab-df-quickchart-complete:disabled,\n",
              "  .colab-df-quickchart-complete:disabled:hover {\n",
              "    background-color: var(--disabled-bg-color);\n",
              "    fill: var(--disabled-fill-color);\n",
              "    box-shadow: none;\n",
              "  }\n",
              "\n",
              "  .colab-df-spinner {\n",
              "    border: 2px solid var(--fill-color);\n",
              "    border-color: transparent;\n",
              "    border-bottom-color: var(--fill-color);\n",
              "    animation:\n",
              "      spin 1s steps(1) infinite;\n",
              "  }\n",
              "\n",
              "  @keyframes spin {\n",
              "    0% {\n",
              "      border-color: transparent;\n",
              "      border-bottom-color: var(--fill-color);\n",
              "      border-left-color: var(--fill-color);\n",
              "    }\n",
              "    20% {\n",
              "      border-color: transparent;\n",
              "      border-left-color: var(--fill-color);\n",
              "      border-top-color: var(--fill-color);\n",
              "    }\n",
              "    30% {\n",
              "      border-color: transparent;\n",
              "      border-left-color: var(--fill-color);\n",
              "      border-top-color: var(--fill-color);\n",
              "      border-right-color: var(--fill-color);\n",
              "    }\n",
              "    40% {\n",
              "      border-color: transparent;\n",
              "      border-right-color: var(--fill-color);\n",
              "      border-top-color: var(--fill-color);\n",
              "    }\n",
              "    60% {\n",
              "      border-color: transparent;\n",
              "      border-right-color: var(--fill-color);\n",
              "    }\n",
              "    80% {\n",
              "      border-color: transparent;\n",
              "      border-right-color: var(--fill-color);\n",
              "      border-bottom-color: var(--fill-color);\n",
              "    }\n",
              "    90% {\n",
              "      border-color: transparent;\n",
              "      border-bottom-color: var(--fill-color);\n",
              "    }\n",
              "  }\n",
              "</style>\n",
              "\n",
              "  <script>\n",
              "    async function quickchart(key) {\n",
              "      const quickchartButtonEl =\n",
              "        document.querySelector('#' + key + ' button');\n",
              "      quickchartButtonEl.disabled = true;  // To prevent multiple clicks.\n",
              "      quickchartButtonEl.classList.add('colab-df-spinner');\n",
              "      try {\n",
              "        const charts = await google.colab.kernel.invokeFunction(\n",
              "            'suggestCharts', [key], {});\n",
              "      } catch (error) {\n",
              "        console.error('Error during call to suggestCharts:', error);\n",
              "      }\n",
              "      quickchartButtonEl.classList.remove('colab-df-spinner');\n",
              "      quickchartButtonEl.classList.add('colab-df-quickchart-complete');\n",
              "    }\n",
              "    (() => {\n",
              "      let quickchartButtonEl =\n",
              "        document.querySelector('#df-97d87fde-c43e-4c38-aa9f-e5c7aa3e9586 button');\n",
              "      quickchartButtonEl.style.display =\n",
              "        google.colab.kernel.accessAllowed ? 'block' : 'none';\n",
              "    })();\n",
              "  </script>\n",
              "</div>\n",
              "\n",
              "    </div>\n",
              "  </div>\n"
            ],
            "text/plain": [
              "     Buyer/Spender Channel Region  Fresh   Milk  Grocery   Frozen  \\\n",
              "435            436   Hotel  Other  29703  12051    16027  13135.0   \n",
              "436            437   Hotel  Other  39228   1431      764   4510.0   \n",
              "437            438  Retail  Other  14531  15488    30243    437.0   \n",
              "438            439   Hotel  Other  10290   1981     2232   1038.0   \n",
              "439            440   Hotel  Other   2787   1698     2510     65.0   \n",
              "\n",
              "     Detergents_Paper  Delicatessen  \n",
              "435             182.0        2204.0  \n",
              "436              93.0        2346.0  \n",
              "437           14841.0        1867.0  \n",
              "438             168.0        2125.0  \n",
              "439             477.0          52.0  "
            ]
          },
          "execution_count": 9,
          "metadata": {},
          "output_type": "execute_result"
        }
      ],
      "source": [
        "df.tail()\n"
      ]
    },
    {
      "cell_type": "markdown",
      "metadata": {
        "id": "jKjnuAy1mVon"
      },
      "source": [
        "**3 - CHECK THE SHAPE OF DATSET**"
      ]
    },
    {
      "cell_type": "code",
      "execution_count": null,
      "metadata": {
        "colab": {
          "base_uri": "https://localhost:8080/"
        },
        "id": "KtxcLNyXjgxT",
        "outputId": "45c594a9-d84e-436a-b619-3e888d022877"
      },
      "outputs": [
        {
          "name": "stdout",
          "output_type": "stream",
          "text": [
            "Shape of the dataset: (440, 9)\n"
          ]
        }
      ],
      "source": [
        "print(\"Shape of the dataset:\", df.shape)"
      ]
    },
    {
      "cell_type": "markdown",
      "metadata": {
        "id": "2gW7c86fmgL4"
      },
      "source": [
        "**4 - CHECK THE DATA TYPES OF EACH FEATURE**"
      ]
    },
    {
      "cell_type": "code",
      "execution_count": null,
      "metadata": {
        "colab": {
          "base_uri": "https://localhost:8080/"
        },
        "id": "TqHinxWXmYLE",
        "outputId": "333d7a37-3577-4ae4-90fa-03002e825d36"
      },
      "outputs": [
        {
          "name": "stdout",
          "output_type": "stream",
          "text": [
            "Buyer/Spender         int64\n",
            "Channel              object\n",
            "Region               object\n",
            "Fresh                object\n",
            "Milk                  int64\n",
            "Grocery               int64\n",
            "Frozen              float64\n",
            "Detergents_Paper    float64\n",
            "Delicatessen        float64\n",
            "dtype: object\n"
          ]
        }
      ],
      "source": [
        "print(df.dtypes)"
      ]
    },
    {
      "cell_type": "markdown",
      "metadata": {
        "id": "cX5Io7s4m_Sf"
      },
      "source": [
        "**5 - CHECK THE STATISTICAL SUMMARY**"
      ]
    },
    {
      "cell_type": "code",
      "execution_count": null,
      "metadata": {
        "colab": {
          "base_uri": "https://localhost:8080/"
        },
        "id": "xCxiNn3nnFYV",
        "outputId": "5d1d11d6-2d3d-4112-eefb-63f3ac346fa6"
      },
      "outputs": [
        {
          "name": "stdout",
          "output_type": "stream",
          "text": [
            "       Buyer/Spender           Milk       Grocery        Frozen  \\\n",
            "count     440.000000     440.000000    440.000000    437.000000   \n",
            "mean      220.500000    6035.779545   7951.277273   3085.638444   \n",
            "std       127.161315    8964.929649   9503.162829   4867.744145   \n",
            "min         1.000000       1.000000      3.000000     25.000000   \n",
            "25%       110.750000    1525.250000   2153.000000    744.000000   \n",
            "50%       220.500000    3641.000000   4755.500000   1535.000000   \n",
            "75%       330.250000    7217.500000  10655.750000   3570.000000   \n",
            "max       440.000000  112400.000000  92780.000000  60869.000000   \n",
            "\n",
            "       Detergents_Paper  Delicatessen  \n",
            "count        439.000000    438.000000  \n",
            "mean        3773.747153   1531.057078  \n",
            "std        19364.886053   2825.044262  \n",
            "min            3.000000      3.000000  \n",
            "25%          256.500000    411.250000  \n",
            "50%          813.000000    971.000000  \n",
            "75%         3956.000000   1822.750000  \n",
            "max       396100.000000  47943.000000  \n"
          ]
        }
      ],
      "source": [
        "print(df.describe())"
      ]
    },
    {
      "cell_type": "markdown",
      "metadata": {
        "id": "n3JYpRU7nS9o"
      },
      "source": [
        "**6 - CHECK THE NULL VALUES**"
      ]
    },
    {
      "cell_type": "code",
      "execution_count": null,
      "metadata": {
        "colab": {
          "base_uri": "https://localhost:8080/"
        },
        "id": "SpNZLvb-nat8",
        "outputId": "6bc83b63-22d1-4426-e4da-5f07340a4a94"
      },
      "outputs": [
        {
          "name": "stdout",
          "output_type": "stream",
          "text": [
            "Null values in each column:\n",
            " Buyer/Spender       0\n",
            "Channel             3\n",
            "Region              6\n",
            "Fresh               0\n",
            "Milk                0\n",
            "Grocery             0\n",
            "Frozen              3\n",
            "Detergents_Paper    1\n",
            "Delicatessen        2\n",
            "dtype: int64\n"
          ]
        }
      ],
      "source": [
        "null_values = df.isnull().sum()\n",
        "print(\"Null values in each column:\\n\", null_values)"
      ]
    },
    {
      "cell_type": "markdown",
      "metadata": {
        "id": "zKtjB_tRnqaI"
      },
      "source": [
        "**7 - CHECK THE DUPLICATE VALUES**"
      ]
    },
    {
      "cell_type": "code",
      "execution_count": null,
      "metadata": {
        "colab": {
          "base_uri": "https://localhost:8080/"
        },
        "id": "hIe9O4DHnva9",
        "outputId": "03f57995-4869-435c-c645-47b51b1f4059"
      },
      "outputs": [
        {
          "name": "stdout",
          "output_type": "stream",
          "text": [
            "Number of duplicate rows: 0\n"
          ]
        }
      ],
      "source": [
        "duplicate_rows = df.duplicated().sum()\n",
        "print(\"Number of duplicate rows:\", duplicate_rows)\n"
      ]
    },
    {
      "cell_type": "markdown",
      "metadata": {
        "id": "nxWJ_Iorn3o7"
      },
      "source": [
        "**8 - CHECK THE ANOMALIES OR WRONG ENTRIES.**"
      ]
    },
    {
      "cell_type": "code",
      "execution_count": null,
      "metadata": {
        "colab": {
          "base_uri": "https://localhost:8080/"
        },
        "id": "zt7fuqRLopYQ",
        "outputId": "470f707c-73a7-4548-f617-e2b41f1baed8"
      },
      "outputs": [
        {
          "name": "stdout",
          "output_type": "stream",
          "text": [
            "Number of duplicate rows: 0\n"
          ]
        }
      ],
      "source": [
        "duplicate_rows = df.duplicated().sum()\n",
        "print(\"Number of duplicate rows:\", duplicate_rows)\n"
      ]
    },
    {
      "cell_type": "markdown",
      "metadata": {
        "id": "sQKfuw3Wp6Cx"
      },
      "source": [
        "**9 - CHECK THE OUTLIERS AND THEIR AUTHENTICITY.**"
      ]
    },
    {
      "cell_type": "code",
      "execution_count": null,
      "metadata": {
        "colab": {
          "base_uri": "https://localhost:8080/"
        },
        "id": "vUA7xFrzs9sp",
        "outputId": "7b4d0ca9-f57f-4d34-b88f-58ecbea9b9f7"
      },
      "outputs": [
        {
          "name": "stdout",
          "output_type": "stream",
          "text": [
            "Outliers and their authenticity:\n",
            "     Buyer/Spender   Milk  Grocery  Frozen  Detergents_Paper  Delicatessen\n",
            "0            False  False    False   False             False         False\n",
            "1            False  False    False   False             False         False\n",
            "2            False  False    False   False             False          True\n",
            "3            False  False    False   False             False         False\n",
            "4            False  False    False   False             False          True\n",
            "..             ...    ...      ...     ...               ...           ...\n",
            "435          False  False    False    True             False         False\n",
            "436          False  False    False   False             False         False\n",
            "437          False  False     True   False              True         False\n",
            "438          False  False    False   False             False         False\n",
            "439          False  False    False   False             False         False\n",
            "\n",
            "[440 rows x 6 columns]\n"
          ]
        }
      ],
      "source": [
        "def detect_outliers_zscore(data, threshold=3.5):\n",
        "    z_scores = (data - data.mean()) / data.std()\n",
        "    outliers = (z_scores > threshold) | (z_scores < -threshold)\n",
        "    return outliers\n",
        "\n",
        "def detect_outliers_iqr(data):\n",
        "    Q1 = data.quantile(0.25)\n",
        "    Q3 = data.quantile(0.75)\n",
        "    IQR = Q3 - Q1\n",
        "    lower_bound = Q1 - 1.5 * IQR\n",
        "    upper_bound = Q3 + 1.5 * IQR\n",
        "    outliers = (data < lower_bound) | (data > upper_bound)\n",
        "    return outliers\n",
        "\n",
        "numeric_cols = df.select_dtypes(include=['float64', 'int64'])\n",
        "\n",
        "outliers_zscore = numeric_cols.apply(detect_outliers_zscore)\n",
        "\n",
        "outliers_iqr = numeric_cols.apply(detect_outliers_iqr)\n",
        "\n",
        "outliers_combined = outliers_zscore | outliers_iqr\n",
        "\n",
        "print(\"Outliers and their authenticity:\")\n",
        "print(outliers_combined)"
      ]
    },
    {
      "cell_type": "markdown",
      "metadata": {
        "id": "xDA4nQxnte9d"
      },
      "source": [
        "**10 - DO THE NECESSARY DATA CLEANING STEPS LIKE DROPPING DUPLICATES, UNNECESSARY COLUMNS, NULL VALUE IMPUTATION, OUTLIERS TREATMENT ETC.**"
      ]
    },
    {
      "cell_type": "code",
      "execution_count": null,
      "metadata": {
        "colab": {
          "base_uri": "https://localhost:8080/"
        },
        "id": "cgW8LTuzoz-f",
        "outputId": "ab4639a5-64c0-4993-8bfb-4ae1e9902496"
      },
      "outputs": [
        {
          "name": "stdout",
          "output_type": "stream",
          "text": [
            "Null values after handling:\n",
            " Buyer/Spender       0\n",
            "Channel             0\n",
            "Region              0\n",
            "Fresh               0\n",
            "Milk                0\n",
            "Grocery             0\n",
            "Frozen              0\n",
            "Detergents_Paper    0\n",
            "Delicatessen        0\n",
            "dtype: int64\n"
          ]
        }
      ],
      "source": [
        "from sklearn.impute import SimpleImputer\n",
        "numeric_columns = ['Fresh', 'Milk', 'Grocery', 'Frozen', 'Detergents_Paper', 'Delicatessen']\n",
        "categorical_columns = ['Channel', 'Region']\n",
        "\n",
        "df[numeric_columns] = df[numeric_columns].apply(pd.to_numeric, errors='coerce')\n",
        "\n",
        "imputer_numeric = SimpleImputer(strategy='mean')\n",
        "df[numeric_columns] = imputer_numeric.fit_transform(df[numeric_columns])\n",
        "\n",
        "imputer_categorical = SimpleImputer(strategy='most_frequent')\n",
        "df[categorical_columns] = imputer_categorical.fit_transform(df[categorical_columns])\n",
        "\n",
        "print(\"Null values after handling:\\n\", df.isnull().sum())"
      ]
    },
    {
      "cell_type": "markdown",
      "metadata": {
        "id": "122_PQpvo4FA"
      },
      "source": [
        "HANDLE OUTLIERS"
      ]
    },
    {
      "cell_type": "code",
      "execution_count": null,
      "metadata": {
        "colab": {
          "base_uri": "https://localhost:8080/",
          "height": 204
        },
        "id": "MOatOyIbo6Y6",
        "outputId": "353ad1b9-02a7-465b-e481-351e86404d96"
      },
      "outputs": [
        {
          "data": {
            "application/vnd.google.colaboratory.intrinsic+json": {
              "summary": "{\n  \"name\": \"df\",\n  \"rows\": 440,\n  \"fields\": [\n    {\n      \"column\": \"Buyer/Spender\",\n      \"properties\": {\n        \"dtype\": \"number\",\n        \"std\": 127.16131487209465,\n        \"min\": 1.0,\n        \"max\": 440.0,\n        \"num_unique_values\": 440,\n        \"samples\": [\n          266.0,\n          79.0,\n          348.0\n        ],\n        \"semantic_type\": \"\",\n        \"description\": \"\"\n      }\n    },\n    {\n      \"column\": \"Channel\",\n      \"properties\": {\n        \"dtype\": \"category\",\n        \"num_unique_values\": 2,\n        \"samples\": [\n          \"Hotel\",\n          \"Retail\"\n        ],\n        \"semantic_type\": \"\",\n        \"description\": \"\"\n      }\n    },\n    {\n      \"column\": \"Region\",\n      \"properties\": {\n        \"dtype\": \"category\",\n        \"num_unique_values\": 3,\n        \"samples\": [\n          \"Other\",\n          \"Lisbon\"\n        ],\n        \"semantic_type\": \"\",\n        \"description\": \"\"\n      }\n    },\n    {\n      \"column\": \"Fresh\",\n      \"properties\": {\n        \"dtype\": \"number\",\n        \"std\": 10208.793938206725,\n        \"min\": 3.0,\n        \"max\": 37642.75,\n        \"num_unique_values\": 413,\n        \"samples\": [\n          4456.0,\n          6338.0\n        ],\n        \"semantic_type\": \"\",\n        \"description\": \"\"\n      }\n    },\n    {\n      \"column\": \"Milk\",\n      \"properties\": {\n        \"dtype\": \"number\",\n        \"std\": 4435.284867224541,\n        \"min\": 1.0,\n        \"max\": 15755.875,\n        \"num_unique_values\": 393,\n        \"samples\": [\n          542.0,\n          12939.0\n        ],\n        \"semantic_type\": \"\",\n        \"description\": \"\"\n      }\n    },\n    {\n      \"column\": \"Grocery\",\n      \"properties\": {\n        \"dtype\": \"number\",\n        \"std\": 6596.5330796444,\n        \"min\": 3.0,\n        \"max\": 23409.875,\n        \"num_unique_values\": 407,\n        \"samples\": [\n          6532.0,\n          593.0\n        ],\n        \"semantic_type\": \"\",\n        \"description\": \"\"\n      }\n    },\n    {\n      \"column\": \"Frozen\",\n      \"properties\": {\n        \"dtype\": \"number\",\n        \"std\": 2398.192068123896,\n        \"min\": 25.0,\n        \"max\": 7743.75,\n        \"num_unique_values\": 383,\n        \"samples\": [\n          1809.0,\n          1293.0\n        ],\n        \"semantic_type\": \"\",\n        \"description\": \"\"\n      }\n    },\n    {\n      \"column\": \"Detergents_Paper\",\n      \"properties\": {\n        \"dtype\": \"number\",\n        \"std\": 2963.68070845516,\n        \"min\": 3.0,\n        \"max\": 9446.125,\n        \"num_unique_values\": 387,\n        \"samples\": [\n          536.0,\n          4973.0\n        ],\n        \"semantic_type\": \"\",\n        \"description\": \"\"\n      }\n    },\n    {\n      \"column\": \"Delicatessen\",\n      \"properties\": {\n        \"dtype\": \"number\",\n        \"std\": 1079.8334409472252,\n        \"min\": 3.0,\n        \"max\": 3933.0,\n        \"num_unique_values\": 377,\n        \"samples\": [\n          1102.0,\n          1037.0\n        ],\n        \"semantic_type\": \"\",\n        \"description\": \"\"\n      }\n    }\n  ]\n}",
              "type": "dataframe",
              "variable_name": "df"
            },
            "text/html": [
              "\n",
              "  <div id=\"df-ec9063fd-f6b1-4ef0-bf4c-78e01319226f\" class=\"colab-df-container\">\n",
              "    <div>\n",
              "<style scoped>\n",
              "    .dataframe tbody tr th:only-of-type {\n",
              "        vertical-align: middle;\n",
              "    }\n",
              "\n",
              "    .dataframe tbody tr th {\n",
              "        vertical-align: top;\n",
              "    }\n",
              "\n",
              "    .dataframe thead th {\n",
              "        text-align: right;\n",
              "    }\n",
              "</style>\n",
              "<table border=\"1\" class=\"dataframe\">\n",
              "  <thead>\n",
              "    <tr style=\"text-align: right;\">\n",
              "      <th></th>\n",
              "      <th>Buyer/Spender</th>\n",
              "      <th>Channel</th>\n",
              "      <th>Region</th>\n",
              "      <th>Fresh</th>\n",
              "      <th>Milk</th>\n",
              "      <th>Grocery</th>\n",
              "      <th>Frozen</th>\n",
              "      <th>Detergents_Paper</th>\n",
              "      <th>Delicatessen</th>\n",
              "    </tr>\n",
              "  </thead>\n",
              "  <tbody>\n",
              "    <tr>\n",
              "      <th>0</th>\n",
              "      <td>1.0</td>\n",
              "      <td>Retail</td>\n",
              "      <td>Other</td>\n",
              "      <td>12669.000000</td>\n",
              "      <td>9656.0</td>\n",
              "      <td>7561.0</td>\n",
              "      <td>214.0</td>\n",
              "      <td>2674.0</td>\n",
              "      <td>1338.0</td>\n",
              "    </tr>\n",
              "    <tr>\n",
              "      <th>1</th>\n",
              "      <td>2.0</td>\n",
              "      <td>Retail</td>\n",
              "      <td>Other</td>\n",
              "      <td>7057.000000</td>\n",
              "      <td>9810.0</td>\n",
              "      <td>9568.0</td>\n",
              "      <td>1762.0</td>\n",
              "      <td>3293.0</td>\n",
              "      <td>1776.0</td>\n",
              "    </tr>\n",
              "    <tr>\n",
              "      <th>2</th>\n",
              "      <td>3.0</td>\n",
              "      <td>Retail</td>\n",
              "      <td>Other</td>\n",
              "      <td>12016.009132</td>\n",
              "      <td>8808.0</td>\n",
              "      <td>7684.0</td>\n",
              "      <td>2405.0</td>\n",
              "      <td>3516.0</td>\n",
              "      <td>3933.0</td>\n",
              "    </tr>\n",
              "    <tr>\n",
              "      <th>3</th>\n",
              "      <td>4.0</td>\n",
              "      <td>Hotel</td>\n",
              "      <td>Other</td>\n",
              "      <td>13265.000000</td>\n",
              "      <td>1196.0</td>\n",
              "      <td>4221.0</td>\n",
              "      <td>6404.0</td>\n",
              "      <td>507.0</td>\n",
              "      <td>1788.0</td>\n",
              "    </tr>\n",
              "    <tr>\n",
              "      <th>4</th>\n",
              "      <td>5.0</td>\n",
              "      <td>Retail</td>\n",
              "      <td>Other</td>\n",
              "      <td>22615.000000</td>\n",
              "      <td>5410.0</td>\n",
              "      <td>7198.0</td>\n",
              "      <td>3915.0</td>\n",
              "      <td>1777.0</td>\n",
              "      <td>3933.0</td>\n",
              "    </tr>\n",
              "  </tbody>\n",
              "</table>\n",
              "</div>\n",
              "    <div class=\"colab-df-buttons\">\n",
              "\n",
              "  <div class=\"colab-df-container\">\n",
              "    <button class=\"colab-df-convert\" onclick=\"convertToInteractive('df-ec9063fd-f6b1-4ef0-bf4c-78e01319226f')\"\n",
              "            title=\"Convert this dataframe to an interactive table.\"\n",
              "            style=\"display:none;\">\n",
              "\n",
              "  <svg xmlns=\"http://www.w3.org/2000/svg\" height=\"24px\" viewBox=\"0 -960 960 960\">\n",
              "    <path d=\"M120-120v-720h720v720H120Zm60-500h600v-160H180v160Zm220 220h160v-160H400v160Zm0 220h160v-160H400v160ZM180-400h160v-160H180v160Zm440 0h160v-160H620v160ZM180-180h160v-160H180v160Zm440 0h160v-160H620v160Z\"/>\n",
              "  </svg>\n",
              "    </button>\n",
              "\n",
              "  <style>\n",
              "    .colab-df-container {\n",
              "      display:flex;\n",
              "      gap: 12px;\n",
              "    }\n",
              "\n",
              "    .colab-df-convert {\n",
              "      background-color: #E8F0FE;\n",
              "      border: none;\n",
              "      border-radius: 50%;\n",
              "      cursor: pointer;\n",
              "      display: none;\n",
              "      fill: #1967D2;\n",
              "      height: 32px;\n",
              "      padding: 0 0 0 0;\n",
              "      width: 32px;\n",
              "    }\n",
              "\n",
              "    .colab-df-convert:hover {\n",
              "      background-color: #E2EBFA;\n",
              "      box-shadow: 0px 1px 2px rgba(60, 64, 67, 0.3), 0px 1px 3px 1px rgba(60, 64, 67, 0.15);\n",
              "      fill: #174EA6;\n",
              "    }\n",
              "\n",
              "    .colab-df-buttons div {\n",
              "      margin-bottom: 4px;\n",
              "    }\n",
              "\n",
              "    [theme=dark] .colab-df-convert {\n",
              "      background-color: #3B4455;\n",
              "      fill: #D2E3FC;\n",
              "    }\n",
              "\n",
              "    [theme=dark] .colab-df-convert:hover {\n",
              "      background-color: #434B5C;\n",
              "      box-shadow: 0px 1px 3px 1px rgba(0, 0, 0, 0.15);\n",
              "      filter: drop-shadow(0px 1px 2px rgba(0, 0, 0, 0.3));\n",
              "      fill: #FFFFFF;\n",
              "    }\n",
              "  </style>\n",
              "\n",
              "    <script>\n",
              "      const buttonEl =\n",
              "        document.querySelector('#df-ec9063fd-f6b1-4ef0-bf4c-78e01319226f button.colab-df-convert');\n",
              "      buttonEl.style.display =\n",
              "        google.colab.kernel.accessAllowed ? 'block' : 'none';\n",
              "\n",
              "      async function convertToInteractive(key) {\n",
              "        const element = document.querySelector('#df-ec9063fd-f6b1-4ef0-bf4c-78e01319226f');\n",
              "        const dataTable =\n",
              "          await google.colab.kernel.invokeFunction('convertToInteractive',\n",
              "                                                    [key], {});\n",
              "        if (!dataTable) return;\n",
              "\n",
              "        const docLinkHtml = 'Like what you see? Visit the ' +\n",
              "          '<a target=\"_blank\" href=https://colab.research.google.com/notebooks/data_table.ipynb>data table notebook</a>'\n",
              "          + ' to learn more about interactive tables.';\n",
              "        element.innerHTML = '';\n",
              "        dataTable['output_type'] = 'display_data';\n",
              "        await google.colab.output.renderOutput(dataTable, element);\n",
              "        const docLink = document.createElement('div');\n",
              "        docLink.innerHTML = docLinkHtml;\n",
              "        element.appendChild(docLink);\n",
              "      }\n",
              "    </script>\n",
              "  </div>\n",
              "\n",
              "\n",
              "<div id=\"df-79f0ac6e-5060-42ad-a212-76ea2c0ecb7d\">\n",
              "  <button class=\"colab-df-quickchart\" onclick=\"quickchart('df-79f0ac6e-5060-42ad-a212-76ea2c0ecb7d')\"\n",
              "            title=\"Suggest charts\"\n",
              "            style=\"display:none;\">\n",
              "\n",
              "<svg xmlns=\"http://www.w3.org/2000/svg\" height=\"24px\"viewBox=\"0 0 24 24\"\n",
              "     width=\"24px\">\n",
              "    <g>\n",
              "        <path d=\"M19 3H5c-1.1 0-2 .9-2 2v14c0 1.1.9 2 2 2h14c1.1 0 2-.9 2-2V5c0-1.1-.9-2-2-2zM9 17H7v-7h2v7zm4 0h-2V7h2v10zm4 0h-2v-4h2v4z\"/>\n",
              "    </g>\n",
              "</svg>\n",
              "  </button>\n",
              "\n",
              "<style>\n",
              "  .colab-df-quickchart {\n",
              "      --bg-color: #E8F0FE;\n",
              "      --fill-color: #1967D2;\n",
              "      --hover-bg-color: #E2EBFA;\n",
              "      --hover-fill-color: #174EA6;\n",
              "      --disabled-fill-color: #AAA;\n",
              "      --disabled-bg-color: #DDD;\n",
              "  }\n",
              "\n",
              "  [theme=dark] .colab-df-quickchart {\n",
              "      --bg-color: #3B4455;\n",
              "      --fill-color: #D2E3FC;\n",
              "      --hover-bg-color: #434B5C;\n",
              "      --hover-fill-color: #FFFFFF;\n",
              "      --disabled-bg-color: #3B4455;\n",
              "      --disabled-fill-color: #666;\n",
              "  }\n",
              "\n",
              "  .colab-df-quickchart {\n",
              "    background-color: var(--bg-color);\n",
              "    border: none;\n",
              "    border-radius: 50%;\n",
              "    cursor: pointer;\n",
              "    display: none;\n",
              "    fill: var(--fill-color);\n",
              "    height: 32px;\n",
              "    padding: 0;\n",
              "    width: 32px;\n",
              "  }\n",
              "\n",
              "  .colab-df-quickchart:hover {\n",
              "    background-color: var(--hover-bg-color);\n",
              "    box-shadow: 0 1px 2px rgba(60, 64, 67, 0.3), 0 1px 3px 1px rgba(60, 64, 67, 0.15);\n",
              "    fill: var(--button-hover-fill-color);\n",
              "  }\n",
              "\n",
              "  .colab-df-quickchart-complete:disabled,\n",
              "  .colab-df-quickchart-complete:disabled:hover {\n",
              "    background-color: var(--disabled-bg-color);\n",
              "    fill: var(--disabled-fill-color);\n",
              "    box-shadow: none;\n",
              "  }\n",
              "\n",
              "  .colab-df-spinner {\n",
              "    border: 2px solid var(--fill-color);\n",
              "    border-color: transparent;\n",
              "    border-bottom-color: var(--fill-color);\n",
              "    animation:\n",
              "      spin 1s steps(1) infinite;\n",
              "  }\n",
              "\n",
              "  @keyframes spin {\n",
              "    0% {\n",
              "      border-color: transparent;\n",
              "      border-bottom-color: var(--fill-color);\n",
              "      border-left-color: var(--fill-color);\n",
              "    }\n",
              "    20% {\n",
              "      border-color: transparent;\n",
              "      border-left-color: var(--fill-color);\n",
              "      border-top-color: var(--fill-color);\n",
              "    }\n",
              "    30% {\n",
              "      border-color: transparent;\n",
              "      border-left-color: var(--fill-color);\n",
              "      border-top-color: var(--fill-color);\n",
              "      border-right-color: var(--fill-color);\n",
              "    }\n",
              "    40% {\n",
              "      border-color: transparent;\n",
              "      border-right-color: var(--fill-color);\n",
              "      border-top-color: var(--fill-color);\n",
              "    }\n",
              "    60% {\n",
              "      border-color: transparent;\n",
              "      border-right-color: var(--fill-color);\n",
              "    }\n",
              "    80% {\n",
              "      border-color: transparent;\n",
              "      border-right-color: var(--fill-color);\n",
              "      border-bottom-color: var(--fill-color);\n",
              "    }\n",
              "    90% {\n",
              "      border-color: transparent;\n",
              "      border-bottom-color: var(--fill-color);\n",
              "    }\n",
              "  }\n",
              "</style>\n",
              "\n",
              "  <script>\n",
              "    async function quickchart(key) {\n",
              "      const quickchartButtonEl =\n",
              "        document.querySelector('#' + key + ' button');\n",
              "      quickchartButtonEl.disabled = true;  // To prevent multiple clicks.\n",
              "      quickchartButtonEl.classList.add('colab-df-spinner');\n",
              "      try {\n",
              "        const charts = await google.colab.kernel.invokeFunction(\n",
              "            'suggestCharts', [key], {});\n",
              "      } catch (error) {\n",
              "        console.error('Error during call to suggestCharts:', error);\n",
              "      }\n",
              "      quickchartButtonEl.classList.remove('colab-df-spinner');\n",
              "      quickchartButtonEl.classList.add('colab-df-quickchart-complete');\n",
              "    }\n",
              "    (() => {\n",
              "      let quickchartButtonEl =\n",
              "        document.querySelector('#df-79f0ac6e-5060-42ad-a212-76ea2c0ecb7d button');\n",
              "      quickchartButtonEl.style.display =\n",
              "        google.colab.kernel.accessAllowed ? 'block' : 'none';\n",
              "    })();\n",
              "  </script>\n",
              "</div>\n",
              "\n",
              "    </div>\n",
              "  </div>\n"
            ],
            "text/plain": [
              "   Buyer/Spender Channel Region         Fresh    Milk  Grocery  Frozen  \\\n",
              "0            1.0  Retail  Other  12669.000000  9656.0   7561.0   214.0   \n",
              "1            2.0  Retail  Other   7057.000000  9810.0   9568.0  1762.0   \n",
              "2            3.0  Retail  Other  12016.009132  8808.0   7684.0  2405.0   \n",
              "3            4.0   Hotel  Other  13265.000000  1196.0   4221.0  6404.0   \n",
              "4            5.0  Retail  Other  22615.000000  5410.0   7198.0  3915.0   \n",
              "\n",
              "   Detergents_Paper  Delicatessen  \n",
              "0            2674.0        1338.0  \n",
              "1            3293.0        1776.0  \n",
              "2            3516.0        3933.0  \n",
              "3             507.0        1788.0  \n",
              "4            1777.0        3933.0  "
            ]
          },
          "execution_count": 12,
          "metadata": {},
          "output_type": "execute_result"
        }
      ],
      "source": [
        "def remove_outlier(col):\n",
        "    sorted(col)\n",
        "    Q1,Q3=col.quantile([0.25,0.75])\n",
        "    IQR=Q3-Q1\n",
        "    lower_range= Q1-(1.5 * IQR)\n",
        "    upper_range= Q3+(1.5 * IQR)\n",
        "    return lower_range, upper_range\n",
        "\n",
        "for i in df.columns:\n",
        "    if df[i].dtype !='object':\n",
        "        lr,ur=remove_outlier(df[i])\n",
        "        df[i]=np.where(df[i]>ur,ur,df[i])\n",
        "        df[i]=np.where(df[i]<lr,lr,df[i])\n",
        "df.head()"
      ]
    },
    {
      "cell_type": "code",
      "execution_count": null,
      "metadata": {
        "colab": {
          "base_uri": "https://localhost:8080/"
        },
        "id": "EG-6_uYQo6AL",
        "outputId": "6df3869b-bdd4-4af6-e29a-1de2d88724bd"
      },
      "outputs": [
        {
          "name": "stdout",
          "output_type": "stream",
          "text": [
            "Shape of cleaned dataset: (440, 9)\n",
            "Summary statistics after cleaning:\n",
            "        Buyer/Spender         Fresh          Milk      Grocery       Frozen  \\\n",
            "count     440.000000    440.000000    440.000000    440.00000   440.000000   \n",
            "mean      220.500000  11373.279587   5073.405966   7236.37500  2518.007194   \n",
            "std       127.161315  10208.793938   4435.284867   6596.53308  2398.192068   \n",
            "min         1.000000      3.000000      1.000000      3.00000    25.000000   \n",
            "25%       110.750000   3127.750000   1525.250000   2153.00000   761.250000   \n",
            "50%       220.500000   8549.000000   3641.000000   4755.50000  1567.000000   \n",
            "75%       330.250000  16933.750000   7217.500000  10655.75000  3554.250000   \n",
            "max       440.000000  37642.750000  15755.875000  23409.87500  7743.750000   \n",
            "\n",
            "       Detergents_Paper  Delicatessen  \n",
            "count        440.000000    440.000000  \n",
            "mean        2407.901414   1272.579805  \n",
            "std         2963.680708   1079.833441  \n",
            "min            3.000000      3.000000  \n",
            "25%          256.750000    411.750000  \n",
            "50%          816.500000    977.500000  \n",
            "75%         3932.500000   1820.250000  \n",
            "max         9446.125000   3933.000000  \n"
          ]
        }
      ],
      "source": [
        "# Final check after cleaning steps\n",
        "print(\"Shape of cleaned dataset:\", df.shape)\n",
        "print(\"Summary statistics after cleaning:\\n\", df.describe())"
      ]
    },
    {
      "cell_type": "code",
      "execution_count": null,
      "metadata": {
        "colab": {
          "base_uri": "https://localhost:8080/"
        },
        "id": "QreIvED8tOwu",
        "outputId": "13ac5ebb-c0da-454e-d875-00771ccf0f93"
      },
      "outputs": [
        {
          "name": "stdout",
          "output_type": "stream",
          "text": [
            "<class 'pandas.core.frame.DataFrame'>\n",
            "Index: 425 entries, 0 to 439\n",
            "Data columns (total 9 columns):\n",
            " #   Column            Non-Null Count  Dtype  \n",
            "---  ------            --------------  -----  \n",
            " 0   Buyer/Spender     425 non-null    int64  \n",
            " 1   Channel           425 non-null    object \n",
            " 2   Region            425 non-null    object \n",
            " 3   Fresh             425 non-null    object \n",
            " 4   Milk              425 non-null    int64  \n",
            " 5   Grocery           425 non-null    int64  \n",
            " 6   Frozen            425 non-null    float64\n",
            " 7   Detergents_Paper  425 non-null    float64\n",
            " 8   Delicatessen      425 non-null    float64\n",
            "dtypes: float64(3), int64(3), object(3)\n",
            "memory usage: 33.2+ KB\n",
            "None\n",
            "       Buyer/Spender          Milk       Grocery       Frozen  \\\n",
            "count     425.000000    425.000000    425.000000   425.000000   \n",
            "mean      220.898824   5222.797647   7242.734118  2638.155294   \n",
            "std       125.457358   4734.770406   6592.754247  2762.595360   \n",
            "min        24.000000    589.000000    803.000000   134.000000   \n",
            "25%       111.000000   1530.000000   2155.000000   744.000000   \n",
            "50%       220.000000   3651.000000   4748.000000  1492.000000   \n",
            "75%       332.000000   7209.000000  10685.000000  3498.000000   \n",
            "max       419.000000  17972.000000  23596.000000  9927.000000   \n",
            "\n",
            "       Detergents_Paper  Delicatessen  \n",
            "count        425.000000    425.000000  \n",
            "mean        2541.343529   1303.044706  \n",
            "std         3347.170344   1162.310098  \n",
            "min           58.000000     64.000000  \n",
            "25%          263.000000    409.000000  \n",
            "50%          811.000000    975.000000  \n",
            "75%         4003.000000   1824.000000  \n",
            "max        12034.000000   4478.000000  \n"
          ]
        }
      ],
      "source": [
        "print(df_clean.info())  # Check the structure of the DataFrame\n",
        "print(df_clean.describe())  # Summary statistics\n"
      ]
    },
    {
      "cell_type": "markdown",
      "metadata": {
        "id": "CNOisDo1tdrn"
      },
      "source": [
        "# ***1 - SPENDING ANALYSIS***"
      ]
    },
    {
      "cell_type": "markdown",
      "metadata": {
        "id": "-ylciN_NuB4N"
      },
      "source": [
        "Q1 . What is the total number of buyers in the dataset?"
      ]
    },
    {
      "cell_type": "code",
      "execution_count": null,
      "metadata": {
        "colab": {
          "base_uri": "https://localhost:8080/"
        },
        "id": "gLCnTSsDtS7o",
        "outputId": "26d39202-282a-481b-c39c-18164e7dc85d"
      },
      "outputs": [
        {
          "name": "stdout",
          "output_type": "stream",
          "text": [
            "The total number of buyers in the dataset is: 440\n"
          ]
        }
      ],
      "source": [
        "total_buyers = df.shape[0]\n",
        "print(f\"The total number of buyers in the dataset is: {total_buyers}\")"
      ]
    },
    {
      "cell_type": "markdown",
      "metadata": {
        "id": "pe_H4C9SuYWc"
      },
      "source": [
        "Q2 . What is the average spending on each category (Fresh, Milk, Grocery, Frozen, Detergents_paper, Delicatessen)?"
      ]
    },
    {
      "cell_type": "code",
      "execution_count": null,
      "metadata": {
        "colab": {
          "base_uri": "https://localhost:8080/",
          "height": 585
        },
        "id": "519HBeGFu2GJ",
        "outputId": "49ab1416-d9aa-46db-fa65-190c3aeaee99"
      },
      "outputs": [
        {
          "name": "stdout",
          "output_type": "stream",
          "text": [
            "Average spending on each category:\n",
            "Fresh               11373.279587\n",
            "Milk                 5073.405966\n",
            "Grocery              7236.375000\n",
            "Frozen               2518.007194\n",
            "Detergents_Paper     2407.901414\n",
            "Delicatessen         1272.579805\n",
            "dtype: float64\n"
          ]
        },
        {
          "data": {
            "text/plain": [
              "<Axes: >"
            ]
          },
          "execution_count": 18,
          "metadata": {},
          "output_type": "execute_result"
        },
        {
          "data": {
            "image/png": "[encoded data removed]",
            "text/plain": [
              "<Figure size 1500x600 with 1 Axes>"
            ]
          },
          "metadata": {},
          "output_type": "display_data"
        }
      ],
      "source": [
        "numeric_columns = ['Fresh', 'Milk', 'Grocery', 'Frozen', 'Detergents_Paper', 'Delicatessen']\n",
        "df[numeric_columns] = df[numeric_columns].apply(pd.to_numeric, errors='coerce')\n",
        "\n",
        "df.dropna(inplace=True)\n",
        "\n",
        "average_spending = df[numeric_columns].mean()\n",
        "\n",
        "print(\"Average spending on each category:\")\n",
        "print(average_spending)\n",
        "\n",
        "plt.figure(figsize=(15, 6))\n",
        "sns.barplot(data=df)"
      ]
    },
    {
      "cell_type": "markdown",
      "metadata": {
        "id": "S1fIKM2NvPKK"
      },
      "source": [
        "Q3 . Which category has the highest average spending?"
      ]
    },
    {
      "cell_type": "code",
      "execution_count": null,
      "metadata": {
        "colab": {
          "base_uri": "https://localhost:8080/"
        },
        "id": "cIoZoXhPvArg",
        "outputId": "cdb7f381-d649-47b5-b577-b29efafe693e"
      },
      "outputs": [
        {
          "name": "stdout",
          "output_type": "stream",
          "text": [
            "The category with the highest average spending is 'Fresh' with $12113.65\n"
          ]
        }
      ],
      "source": [
        "numeric_columns = ['Fresh', 'Milk', 'Grocery', 'Frozen', 'Detergents_Paper', 'Delicatessen']\n",
        "df[numeric_columns] = df[numeric_columns].apply(pd.to_numeric, errors='coerce')\n",
        "\n",
        "df.dropna(inplace=True)\n",
        "\n",
        "average_spending = df[numeric_columns].mean()\n",
        "\n",
        "highest_spending_category = average_spending.idxmax()\n",
        "highest_average_spending = average_spending.max()\n",
        "\n",
        "print(f\"The category with the highest average spending is '{highest_spending_category}' with ${highest_average_spending:.2f}\")\n"
      ]
    },
    {
      "cell_type": "markdown",
      "metadata": {
        "id": "LhJBGRgcvx1p"
      },
      "source": [
        "Q4 . How many buyers spend above the average on Fresh Vegetables?"
      ]
    },
    {
      "cell_type": "code",
      "execution_count": null,
      "metadata": {
        "colab": {
          "base_uri": "https://localhost:8080/"
        },
        "id": "K5sWMd2OvquE",
        "outputId": "ec39a2aa-754a-4f99-a845-4179fce0c46d"
      },
      "outputs": [
        {
          "name": "stdout",
          "output_type": "stream",
          "text": [
            "The number of buyers spending above the average on Fresh vegetables is: 155\n"
          ]
        }
      ],
      "source": [
        "numeric_columns = ['Fresh', 'Milk', 'Grocery', 'Frozen', 'Detergents_Paper', 'Delicatessen']\n",
        "df[numeric_columns] = df[numeric_columns].apply(pd.to_numeric, errors='coerce')\n",
        "\n",
        "df.dropna(inplace=True)\n",
        "\n",
        "average_spending_fresh = df['Fresh'].mean()\n",
        "\n",
        "buyers_above_average = df[df['Fresh'] > average_spending_fresh].shape[0]\n",
        "\n",
        "print(f\"The number of buyers spending above the average on Fresh vegetables is: {buyers_above_average}\")\n"
      ]
    },
    {
      "cell_type": "markdown",
      "metadata": {
        "id": "vbO_n9YFwNjR"
      },
      "source": [
        "# ***2 - Regional Demand***"
      ]
    },
    {
      "cell_type": "markdown",
      "metadata": {
        "id": "kDlAd4pJwYyC"
      },
      "source": [
        "Q1 . What is the total spending in each region?"
      ]
    },
    {
      "cell_type": "code",
      "execution_count": null,
      "metadata": {
        "colab": {
          "base_uri": "https://localhost:8080/"
        },
        "id": "_9AMQaqewHjG",
        "outputId": "7bcef8d4-2d47-4a18-c645-788bec314fda"
      },
      "outputs": [
        {
          "name": "stdout",
          "output_type": "stream",
          "text": [
            "Total spending in each region:\n",
            "            Fresh     Milk  Grocery    Frozen  Detergents_Paper  Delicatessen\n",
            "Region                                                                       \n",
            "Lisbon   845508.0   397328   534652  222550.0          577447.0       98496.0\n",
            "Oporto   432343.0   232764   418529  173172.0          172339.0       50668.0\n",
            "Other   3846223.0  1936963  2405755  901191.0          848500.0      494981.0\n"
          ]
        }
      ],
      "source": [
        "numeric_columns = ['Fresh', 'Milk', 'Grocery', 'Frozen', 'Detergents_Paper', 'Delicatessen']\n",
        "df[numeric_columns] = df[numeric_columns].apply(pd.to_numeric, errors='coerce')\n",
        "\n",
        "df.dropna(inplace=True)\n",
        "\n",
        "total_spending_by_region = df.groupby('Region')[numeric_columns].sum()\n",
        "\n",
        "print(\"Total spending in each region:\")\n",
        "print(total_spending_by_region)\n"
      ]
    },
    {
      "cell_type": "markdown",
      "metadata": {
        "id": "54oB1ak3wrMG"
      },
      "source": [
        "Q2 . Which region has the highest spending on Milk?"
      ]
    },
    {
      "cell_type": "code",
      "execution_count": null,
      "metadata": {
        "colab": {
          "base_uri": "https://localhost:8080/"
        },
        "id": "k4F_DqWiwkZC",
        "outputId": "0d3986cd-2ecf-442f-df38-51ebe54c45c7"
      },
      "outputs": [
        {
          "name": "stdout",
          "output_type": "stream",
          "text": [
            "The region with the highest spending on Milk is 'Other' with $1936963.00\n"
          ]
        }
      ],
      "source": [
        "numeric_columns = ['Fresh', 'Milk', 'Grocery', 'Frozen', 'Detergents_Paper', 'Delicatessen']\n",
        "df[numeric_columns] = df[numeric_columns].apply(pd.to_numeric, errors='coerce')\n",
        "\n",
        "df.dropna(inplace=True)\n",
        "\n",
        "total_spending_milk_by_region = df.groupby('Region')['Milk'].sum()\n",
        "\n",
        "highest_spending_region = total_spending_milk_by_region.idxmax()\n",
        "highest_spending_milk = total_spending_milk_by_region.max()\n",
        "\n",
        "print(f\"The region with the highest spending on Milk is '{highest_spending_region}' with ${highest_spending_milk:.2f}\")\n"
      ]
    },
    {
      "cell_type": "markdown",
      "metadata": {
        "id": "VjiBhwXHxDzT"
      },
      "source": [
        "Q3 . How does the average spending on Grocery vary across different regions?"
      ]
    },
    {
      "cell_type": "code",
      "execution_count": null,
      "metadata": {
        "colab": {
          "base_uri": "https://localhost:8080/"
        },
        "id": "XQwrHYVCv9c9",
        "outputId": "8d182ab0-da12-473c-ba68-df35b3d464cd"
      },
      "outputs": [
        {
          "name": "stdout",
          "output_type": "stream",
          "text": [
            "Average spending on Grocery across different regions:\n",
            "Region\n",
            "Lisbon    7128.693333\n",
            "Oporto    9733.232558\n",
            "Other     7887.721311\n",
            "Name: Grocery, dtype: float64\n"
          ]
        }
      ],
      "source": [
        "numeric_columns = ['Fresh', 'Milk', 'Grocery', 'Frozen', 'Detergents_Paper', 'Delicatessen']\n",
        "df[numeric_columns] = df[numeric_columns].apply(pd.to_numeric, errors='coerce')\n",
        "\n",
        "df.dropna(inplace=True)\n",
        "\n",
        "average_spending_grocery_by_region = df.groupby('Region')['Grocery'].mean()\n",
        "\n",
        "print(\"Average spending on Grocery across different regions:\")\n",
        "print(average_spending_grocery_by_region)\n"
      ]
    },
    {
      "cell_type": "markdown",
      "metadata": {
        "id": "HBlAl9NSxTBP"
      },
      "source": [
        "Q4 . Which region has the highest average spending per buyer?"
      ]
    },
    {
      "cell_type": "code",
      "execution_count": null,
      "metadata": {
        "colab": {
          "base_uri": "https://localhost:8080/"
        },
        "id": "Be7PNmwgvpGQ",
        "outputId": "0619bc16-9b48-4b43-a029-cd3b582d1611"
      },
      "outputs": [
        {
          "name": "stdout",
          "output_type": "stream",
          "text": [
            "The region with the highest average spending per buyer is 'Oporto' with $800.33\n"
          ]
        }
      ],
      "source": [
        "numeric_columns = ['Fresh', 'Milk', 'Grocery', 'Frozen', 'Detergents_Paper', 'Delicatessen']\n",
        "df[numeric_columns] = df[numeric_columns].apply(pd.to_numeric, errors='coerce')\n",
        "\n",
        "df.dropna(inplace=True)\n",
        "\n",
        "df['Total_spending'] = df[numeric_columns].sum(axis=1)\n",
        "\n",
        "buyers_per_region = df['Region'].value_counts()\n",
        "\n",
        "df['Average_spending_per_buyer'] = df['Total_spending'] / df['Region'].map(buyers_per_region)\n",
        "\n",
        "highest_spending_region = df.groupby('Region')['Average_spending_per_buyer'].mean().idxmax()\n",
        "highest_average_spending = df.groupby('Region')['Average_spending_per_buyer'].mean().max()\n",
        "\n",
        "print(f\"The region with the highest average spending per buyer is '{highest_spending_region}' with ${highest_average_spending:.2f}\")\n"
      ]
    },
    {
      "cell_type": "markdown",
      "metadata": {
        "id": "lZB59a7JxpbD"
      },
      "source": [
        "# ***3 . Category Preferences***"
      ]
    },
    {
      "cell_type": "markdown",
      "metadata": {
        "id": "abcR4jtzxzv_"
      },
      "source": [
        "Q1 . What percentage of buyers spend more on Frozen food compared to Delicatessen?"
      ]
    },
    {
      "cell_type": "code",
      "execution_count": null,
      "metadata": {
        "colab": {
          "base_uri": "https://localhost:8080/"
        },
        "id": "q9iNgLl7vYxy",
        "outputId": "1ca585c5-0953-4eac-9869-f1ddc1ad824a"
      },
      "outputs": [
        {
          "name": "stdout",
          "output_type": "stream",
          "text": [
            "64.54% of buyers spend more on Frozen food compared to Delicatessen\n"
          ]
        }
      ],
      "source": [
        "numeric_columns = ['Fresh', 'Milk', 'Grocery', 'Frozen', 'Detergents_Paper', 'Delicatessen']\n",
        "df[numeric_columns] = df[numeric_columns].apply(pd.to_numeric, errors='coerce')\n",
        "\n",
        "df.dropna(inplace=True)\n",
        "\n",
        "df['Total_spending_frozen'] = df['Frozen']\n",
        "df['Total_spending_delicatessen'] = df['Delicatessen']\n",
        "\n",
        "num_buyers_more_frozen = (df['Total_spending_frozen'] > df['Total_spending_delicatessen']).sum()\n",
        "\n",
        "percentage_more_frozen = (num_buyers_more_frozen / len(df)) * 100\n",
        "\n",
        "print(f\"{percentage_more_frozen:.2f}% of buyers spend more on Frozen food compared to Delicatessen\")\n"
      ]
    },
    {
      "cell_type": "markdown",
      "metadata": {
        "id": "M0GfWEDfyDq8"
      },
      "source": [
        "Q2 . Which category shows the most variation in spending among buyers?"
      ]
    },
    {
      "cell_type": "code",
      "execution_count": null,
      "metadata": {
        "colab": {
          "base_uri": "https://localhost:8080/"
        },
        "id": "Mc92hyOMuQG1",
        "outputId": "515efb1f-b3b8-45c4-80da-54f4cf22ed02"
      },
      "outputs": [
        {
          "name": "stdout",
          "output_type": "stream",
          "text": [
            "The category with the most variation in spending among buyers is 'Detergents_Paper' with a standard deviation of 19701.20\n"
          ]
        }
      ],
      "source": [
        "import pandas as pd\n",
        "\n",
        "# Assuming you have already loaded your CSV file into a DataFrame 'df'\n",
        "file_path = \"/content/4-Wholesale Customer_New.csv\"\n",
        "df = pd.read_csv(file_path)\n",
        "\n",
        "# Clean the data: Convert relevant columns to numeric\n",
        "numeric_columns = ['Fresh', 'Milk', 'Grocery', 'Frozen', 'Detergents_Paper', 'Delicatessen']\n",
        "df[numeric_columns] = df[numeric_columns].apply(pd.to_numeric, errors='coerce')\n",
        "\n",
        "# Drop rows with NaN values (if necessary)\n",
        "df.dropna(inplace=True)\n",
        "\n",
        "# Calculate standard deviation of spending across each category\n",
        "variation = df[numeric_columns].std()\n",
        "\n",
        "# Find the category with the highest standard deviation (most variation)\n",
        "category_most_variation = variation.idxmax()\n",
        "highest_variation = variation.max()\n",
        "\n",
        "# Display the result\n",
        "print(f\"The category with the most variation in spending among buyers is '{category_most_variation}' with a standard deviation of {highest_variation:.2f}\")\n"
      ]
    },
    {
      "cell_type": "markdown",
      "metadata": {
        "id": "stFw9ZdmQenN"
      },
      "source": [
        "Q3. Are there any regions where spending on Detergents_paper is significantly higher than others?"
      ]
    },
    {
      "cell_type": "code",
      "execution_count": null,
      "metadata": {
        "colab": {
          "base_uri": "https://localhost:8080/"
        },
        "id": "EfIUvSKhQWiA",
        "outputId": "0cb0c386-54f7-427f-b024-02b0ceee4c2a"
      },
      "outputs": [
        {
          "name": "stdout",
          "output_type": "stream",
          "text": [
            "Regions where spending on Detergents_Paper is significantly higher than others:\n",
            "Region\n",
            "Lisbon    7699.293333\n",
            "Oporto    4007.883721\n",
            "Name: Detergents_Paper, dtype: float64\n"
          ]
        }
      ],
      "source": [
        "numeric_columns = ['Fresh', 'Milk', 'Grocery', 'Frozen', 'Detergents_Paper', 'Delicatessen']\n",
        "df[numeric_columns] = df[numeric_columns].apply(pd.to_numeric, errors='coerce')\n",
        "\n",
        "df.dropna(inplace=True)\n",
        "\n",
        "average_spending_detergents_paper_by_region = df.groupby('Region')['Detergents_Paper'].mean()\n",
        "\n",
        "overall_average_spending_detergents_paper = df['Detergents_Paper'].mean()\n",
        "\n",
        "significant_regions = average_spending_detergents_paper_by_region[average_spending_detergents_paper_by_region > overall_average_spending_detergents_paper]\n",
        "\n",
        "if len(significant_regions) > 0:\n",
        "    print(\"Regions where spending on Detergents_Paper is significantly higher than others:\")\n",
        "    print(significant_regions)\n",
        "else:\n",
        "    print(\"No regions have significantly higher spending on Detergents_Paper compared to others.\")\n"
      ]
    },
    {
      "cell_type": "markdown",
      "metadata": {
        "id": "YqZjE6cCQ2lk"
      },
      "source": [
        "Q4. What is the correlation between spending on Fresh and Frozen food?"
      ]
    },
    {
      "cell_type": "code",
      "execution_count": null,
      "metadata": {
        "colab": {
          "base_uri": "https://localhost:8080/"
        },
        "id": "JwGgNn4XQuiI",
        "outputId": "43a494ca-4f17-49c4-ec6e-fc92096fb43d"
      },
      "outputs": [
        {
          "name": "stdout",
          "output_type": "stream",
          "text": [
            "The correlation between spending on Fresh and Frozen food is: 0.34\n"
          ]
        }
      ],
      "source": [
        "numeric_columns = ['Fresh', 'Milk', 'Grocery', 'Frozen', 'Detergents_Paper', 'Delicatessen']\n",
        "df[numeric_columns] = df[numeric_columns].apply(pd.to_numeric, errors='coerce')\n",
        "\n",
        "df.dropna(inplace=True)\n",
        "\n",
        "correlation_fresh_frozen = df['Fresh'].corr(df['Frozen'])\n",
        "\n",
        "print(f\"The correlation between spending on Fresh and Frozen food is: {correlation_fresh_frozen:.2f}\")\n"
      ]
    },
    {
      "cell_type": "markdown",
      "metadata": {
        "id": "BP8OUZ3TRGZA"
      },
      "source": [
        "# ***4 . Customer Segmentation***"
      ]
    },
    {
      "cell_type": "markdown",
      "metadata": {
        "id": "PSMYAGWIRO6E"
      },
      "source": [
        "Q1. Can buyers be grouped into segments based on their spending patterns? (e.g., using clustering analysis)"
      ]
    },
    {
      "cell_type": "code",
      "execution_count": null,
      "metadata": {
        "colab": {
          "base_uri": "https://localhost:8080/"
        },
        "id": "2u0COulKQFmI",
        "outputId": "218d731e-df57-4f31-e737-f5c8b7822a3c"
      },
      "outputs": [
        {
          "name": "stderr",
          "output_type": "stream",
          "text": [
            "/usr/local/lib/python3.10/dist-packages/sklearn/cluster/_kmeans.py:870: FutureWarning: The default value of `n_init` will change from 10 to 'auto' in 1.4. Set the value of `n_init` explicitly to suppress the warning\n",
            "  warnings.warn(\n"
          ]
        },
        {
          "name": "stdout",
          "output_type": "stream",
          "text": [
            "Cluster Centers:\n",
            "              Fresh      Milk   Grocery    Frozen  Detergents_Paper  \\\n",
            "Cluster 0 -0.572048  0.547014  0.999978 -0.321942          0.193807   \n",
            "Cluster 1 -0.696636  0.058855 -0.113350 -0.353417         19.937163   \n",
            "Cluster 2  0.130867 -0.320430 -0.411005  0.037261         -0.142231   \n",
            "Cluster 3  2.038447  4.866618  2.882023  2.400373          0.503147   \n",
            "\n",
            "           Delicatessen  \n",
            "Cluster 0      0.092695  \n",
            "Cluster 1     -0.108210  \n",
            "Cluster 2     -0.117938  \n",
            "Cluster 3      3.036908  \n",
            "\n",
            "Count of buyers in each cluster:\n",
            "Cluster\n",
            "0    102\n",
            "1      1\n",
            "2    311\n",
            "3      9\n",
            "Name: count, dtype: int64\n"
          ]
        }
      ],
      "source": [
        "numeric_columns = ['Fresh', 'Milk', 'Grocery', 'Frozen', 'Detergents_Paper', 'Delicatessen']\n",
        "df[numeric_columns] = df[numeric_columns].apply(pd.to_numeric, errors='coerce')\n",
        "\n",
        "df.dropna(inplace=True)\n",
        "\n",
        "scaler = StandardScaler()\n",
        "df_scaled = scaler.fit_transform(df[numeric_columns])\n",
        "\n",
        "kmeans = KMeans(n_clusters=4, random_state=0)  # Example: using 4 clusters\n",
        "df['Cluster'] = kmeans.fit_predict(df_scaled)\n",
        "\n",
        "cluster_centers = pd.DataFrame(kmeans.cluster_centers_, columns=numeric_columns)\n",
        "cluster_centers.index = ['Cluster 0', 'Cluster 1', 'Cluster 2', 'Cluster 3']  # Example: naming clusters\n",
        "print(\"Cluster Centers:\")\n",
        "print(cluster_centers)\n",
        "\n",
        "cluster_counts = df['Cluster'].value_counts().sort_index()\n",
        "print(\"\\nCount of buyers in each cluster:\")\n",
        "print(cluster_counts)\n"
      ]
    },
    {
      "cell_type": "markdown",
      "metadata": {
        "id": "vy9kUedRRxAW"
      },
      "source": [
        "Q2. What are the characteristics of the top 10% spenders in each category?"
      ]
    },
    {
      "cell_type": "code",
      "execution_count": null,
      "metadata": {
        "colab": {
          "base_uri": "https://localhost:8080/",
          "height": 740
        },
        "id": "cFBo2SzJR_AR",
        "outputId": "03823990-4db9-496f-b9c1-0c99e28be6e7"
      },
      "outputs": [
        {
          "data": {
            "image/png": "[encoded data removed]",
            "text/plain": [
              "<Figure size 1400x1000 with 6 Axes>"
            ]
          },
          "metadata": {},
          "output_type": "display_data"
        }
      ],
      "source": [
        "numeric_columns = ['Fresh', 'Milk', 'Grocery', 'Frozen', 'Detergents_Paper', 'Delicatessen']\n",
        "df[numeric_columns] = df[numeric_columns].apply(pd.to_numeric, errors='coerce')\n",
        "\n",
        "df.dropna(inplace=True)\n",
        "\n",
        "percentile_threshold = df[numeric_columns].quantile(0.9)\n",
        "\n",
        "top_spenders = {}\n",
        "for col in numeric_columns:\n",
        "    top_spenders[col] = df[df[col] >= percentile_threshold[col]]\n",
        "\n",
        "\n",
        "plt.figure(figsize=(14, 10))\n",
        "for i, col in enumerate(numeric_columns, 1):\n",
        "    plt.subplot(3, 2, i)\n",
        "    sns.histplot(top_spenders[col][col], bins=20, kde=True, color='skyblue', edgecolor='black')\n",
        "    plt.title(f'Distribution of {col} Spending for Top 10% Spenders')\n",
        "    plt.xlabel('Spending')\n",
        "    plt.ylabel('Count')\n",
        "\n",
        "plt.tight_layout()\n",
        "plt.show()\n"
      ]
    },
    {
      "cell_type": "markdown",
      "metadata": {
        "id": "4MoLGP46TeqS"
      },
      "source": [
        "Q3. How do spending patterns differ between high spenders and low spenders?"
      ]
    },
    {
      "cell_type": "code",
      "execution_count": null,
      "metadata": {
        "colab": {
          "base_uri": "https://localhost:8080/",
          "height": 1000
        },
        "id": "aLEKdo8QSyFh",
        "outputId": "85fcf476-a450-4f85-c9c2-0ddcf6a0e357"
      },
      "outputs": [
        {
          "name": "stderr",
          "output_type": "stream",
          "text": [
            "<ipython-input-17-d5ae72e8f54a>:15: FutureWarning: \n",
            "\n",
            "Passing `palette` without assigning `hue` is deprecated and will be removed in v0.14.0. Assign the `x` variable to `hue` and set `legend=False` for the same effect.\n",
            "\n",
            "  sns.boxplot(x='Spender Type', y=col, data=df, palette='viridis')\n",
            "<ipython-input-17-d5ae72e8f54a>:15: FutureWarning: \n",
            "\n",
            "Passing `palette` without assigning `hue` is deprecated and will be removed in v0.14.0. Assign the `x` variable to `hue` and set `legend=False` for the same effect.\n",
            "\n",
            "  sns.boxplot(x='Spender Type', y=col, data=df, palette='viridis')\n",
            "<ipython-input-17-d5ae72e8f54a>:15: FutureWarning: \n",
            "\n",
            "Passing `palette` without assigning `hue` is deprecated and will be removed in v0.14.0. Assign the `x` variable to `hue` and set `legend=False` for the same effect.\n",
            "\n",
            "  sns.boxplot(x='Spender Type', y=col, data=df, palette='viridis')\n",
            "<ipython-input-17-d5ae72e8f54a>:15: FutureWarning: \n",
            "\n",
            "Passing `palette` without assigning `hue` is deprecated and will be removed in v0.14.0. Assign the `x` variable to `hue` and set `legend=False` for the same effect.\n",
            "\n",
            "  sns.boxplot(x='Spender Type', y=col, data=df, palette='viridis')\n",
            "<ipython-input-17-d5ae72e8f54a>:15: FutureWarning: \n",
            "\n",
            "Passing `palette` without assigning `hue` is deprecated and will be removed in v0.14.0. Assign the `x` variable to `hue` and set `legend=False` for the same effect.\n",
            "\n",
            "  sns.boxplot(x='Spender Type', y=col, data=df, palette='viridis')\n",
            "<ipython-input-17-d5ae72e8f54a>:15: FutureWarning: \n",
            "\n",
            "Passing `palette` without assigning `hue` is deprecated and will be removed in v0.14.0. Assign the `x` variable to `hue` and set `legend=False` for the same effect.\n",
            "\n",
            "  sns.boxplot(x='Spender Type', y=col, data=df, palette='viridis')\n"
          ]
        },
        {
          "data": {
            "image/png": "[encoded data removed]",
            "text/plain": [
              "<Figure size 1400x1000 with 6 Axes>"
            ]
          },
          "metadata": {},
          "output_type": "display_data"
        }
      ],
      "source": [
        "numeric_columns = ['Fresh', 'Milk', 'Grocery', 'Frozen', 'Detergents_Paper', 'Delicatessen']\n",
        "df[numeric_columns] = df[numeric_columns].apply(pd.to_numeric, errors='coerce')\n",
        "\n",
        "df.dropna(inplace=True)\n",
        "\n",
        "percentile_threshold = df[numeric_columns].quantile(0.9)\n",
        "\n",
        "df['Spender Type'] = 'Low Spender'\n",
        "for col in numeric_columns:\n",
        "    df.loc[df[col] >= percentile_threshold[col], 'Spender Type'] = 'High Spender'\n",
        "\n",
        "plt.figure(figsize=(14, 10))\n",
        "for i, col in enumerate(numeric_columns, 1):\n",
        "    plt.subplot(3, 2, i)\n",
        "    sns.boxplot(x='Spender Type', y=col, data=df, palette='viridis')\n",
        "    plt.title(f'Spending Comparison on {col}')\n",
        "    plt.xlabel('Spender Type')\n",
        "    plt.ylabel('Spending')\n",
        "\n",
        "plt.tight_layout()\n",
        "plt.show()\n"
      ]
    },
    {
      "cell_type": "markdown",
      "metadata": {
        "id": "-iMIUImAWgpZ"
      },
      "source": [
        "# ***5 . Cross-Category Analysis***"
      ]
    },
    {
      "cell_type": "markdown",
      "metadata": {
        "id": "aeFs3Rr0W8f5"
      },
      "source": [
        "Q1. Is there a correlation between spending on Milk and Grocery?"
      ]
    },
    {
      "cell_type": "code",
      "execution_count": null,
      "metadata": {
        "colab": {
          "base_uri": "https://localhost:8080/",
          "height": 581
        },
        "id": "wJdaFpNbT6Zh",
        "outputId": "e677b912-5ae2-4904-ed7a-0019a510b05b"
      },
      "outputs": [
        {
          "data": {
            "image/png": "[encoded data removed]",
            "text/plain": [
              "<Figure size 800x600 with 1 Axes>"
            ]
          },
          "metadata": {},
          "output_type": "display_data"
        },
        {
          "name": "stdout",
          "output_type": "stream",
          "text": [
            "Correlation Coefficient between Milk and Grocery: 0.59\n"
          ]
        }
      ],
      "source": [
        "numeric_columns = ['Milk', 'Grocery']\n",
        "df[numeric_columns] = df[numeric_columns].apply(pd.to_numeric, errors='coerce')\n",
        "\n",
        "df.dropna(inplace=True)\n",
        "\n",
        "corr_coef = df['Milk'].corr(df['Grocery'])\n",
        "\n",
        "plt.figure(figsize=(8, 6))\n",
        "sns.scatterplot(x='Milk', y='Grocery', data=df, color='skyblue', edgecolor='black')\n",
        "plt.title(f'Scatter Plot of Milk vs Grocery (Correlation: {corr_coef:.2f})')\n",
        "plt.xlabel('Spending on Milk')\n",
        "plt.ylabel('Spending on Grocery')\n",
        "plt.grid(True)\n",
        "plt.show()\n",
        "\n",
        "print(f\"Correlation Coefficient between Milk and Grocery: {corr_coef:.2f}\")\n"
      ]
    },
    {
      "cell_type": "markdown",
      "metadata": {
        "id": "PVU-qbUsXALT"
      },
      "source": [
        "Q2. Do buyers who spend more on Delicatessen also spend more on Frozen food?"
      ]
    },
    {
      "cell_type": "code",
      "execution_count": null,
      "metadata": {
        "colab": {
          "base_uri": "https://localhost:8080/",
          "height": 581
        },
        "id": "oBbxepzwWxkM",
        "outputId": "51081641-69c7-47d9-f8d0-f52f8a7372b5"
      },
      "outputs": [
        {
          "data": {
            "image/png": "[encoded data removed]",
            "text/plain": [
              "<Figure size 800x600 with 1 Axes>"
            ]
          },
          "metadata": {},
          "output_type": "display_data"
        },
        {
          "name": "stdout",
          "output_type": "stream",
          "text": [
            "Correlation Coefficient between Delicatessen and Frozen: 0.39\n"
          ]
        }
      ],
      "source": [
        "numeric_columns = ['Delicatessen', 'Frozen']\n",
        "df[numeric_columns] = df[numeric_columns].apply(pd.to_numeric, errors='coerce')\n",
        "\n",
        "df.dropna(inplace=True)\n",
        "\n",
        "corr_coef = df['Delicatessen'].corr(df['Frozen'])\n",
        "\n",
        "plt.figure(figsize=(8, 6))\n",
        "sns.scatterplot(x='Delicatessen', y='Frozen', data=df, color='skyblue', edgecolor='black')\n",
        "plt.title(f'Scatter Plot of Delicatessen vs Frozen (Correlation: {corr_coef:.2f})')\n",
        "plt.xlabel('Spending on Delicatessen')\n",
        "plt.ylabel('Spending on Frozen')\n",
        "plt.grid(True)\n",
        "plt.show()\n",
        "\n",
        "print(f\"Correlation Coefficient between Delicatessen and Frozen: {corr_coef:.2f}\")\n"
      ]
    },
    {
      "cell_type": "markdown",
      "metadata": {
        "id": "x3Uzvz1zXj5P"
      },
      "source": [
        "Q3. What is the combined average spending on Fresh and Milk for each region?"
      ]
    },
    {
      "cell_type": "code",
      "execution_count": null,
      "metadata": {
        "colab": {
          "base_uri": "https://localhost:8080/"
        },
        "id": "hcOiTGF2Xfih",
        "outputId": "dabb5a41-f793-4c4b-bfb3-221e8b3fa2a1"
      },
      "outputs": [
        {
          "name": "stdout",
          "output_type": "stream",
          "text": [
            "Combined Average Spending on Fresh and Milk for Each Region:\n",
            "               Fresh         Milk\n",
            "Region                           \n",
            "Lisbon  11273.440000  5297.706667\n",
            "Oporto  10054.488372  5413.116279\n",
            "Other   12610.567213  6350.698361\n"
          ]
        }
      ],
      "source": [
        "numeric_columns = ['Fresh', 'Milk']\n",
        "df[numeric_columns] = df[numeric_columns].apply(pd.to_numeric, errors='coerce')\n",
        "\n",
        "df.dropna(inplace=True)\n",
        "\n",
        "average_spending = df.groupby('Region')[['Fresh', 'Milk']].mean()\n",
        "\n",
        "print(\"Combined Average Spending on Fresh and Milk for Each Region:\")\n",
        "print(average_spending)\n"
      ]
    },
    {
      "cell_type": "markdown",
      "metadata": {
        "id": "18Jvm_PTX1gl"
      },
      "source": [
        "# ***6 . Demand Trends***"
      ]
    },
    {
      "cell_type": "markdown",
      "metadata": {
        "id": "3LX5MhlcX9Gg"
      },
      "source": [
        "Q1. Which region has the fastest growing spending on Fresh Vegetables?"
      ]
    },
    {
      "cell_type": "code",
      "execution_count": null,
      "metadata": {
        "colab": {
          "base_uri": "https://localhost:8080/"
        },
        "id": "V4V29g77XrvL",
        "outputId": "3b92d3a9-d003-4316-f666-53046e3c712d"
      },
      "outputs": [
        {
          "name": "stdout",
          "output_type": "stream",
          "text": [
            "Region with the highest average spending on Fresh vegetables: Other\n",
            "Highest average spending on Fresh vegetables: 12610.57\n"
          ]
        }
      ],
      "source": [
        "numeric_columns = ['Fresh']\n",
        "df[numeric_columns] = df[numeric_columns].apply(pd.to_numeric, errors='coerce')\n",
        "\n",
        "df.dropna(inplace=True)\n",
        "\n",
        "average_spending_fresh = df.groupby('Region')['Fresh'].mean()\n",
        "\n",
        "region_highest_spending = average_spending_fresh.idxmax()\n",
        "highest_spending_value = average_spending_fresh.max()\n",
        "\n",
        "print(f\"Region with the highest average spending on Fresh vegetables: {region_highest_spending}\")\n",
        "print(f\"Highest average spending on Fresh vegetables: {highest_spending_value:.2f}\")\n"
      ]
    },
    {
      "cell_type": "markdown",
      "metadata": {
        "id": "bFpElBtJYMLV"
      },
      "source": [
        "Q2. How does the total spending on Grocery change across regions over time (if time data is available)?"
      ]
    },
    {
      "cell_type": "code",
      "execution_count": null,
      "metadata": {
        "colab": {
          "base_uri": "https://localhost:8080/",
          "height": 607
        },
        "id": "C0dqL94IXRQk",
        "outputId": "996aa8d8-53f1-459b-976f-9d651f566278"
      },
      "outputs": [
        {
          "data": {
            "image/png": "[encoded data removed]",
            "text/plain": [
              "<Figure size 1000x600 with 1 Axes>"
            ]
          },
          "metadata": {},
          "output_type": "display_data"
        }
      ],
      "source": [
        "data = {\n",
        "    'Year': [2018, 2018, 2019, 2019, 2020, 2020],\n",
        "    'Region': ['Region A', 'Region B', 'Region A', 'Region B', 'Region A', 'Region B'],\n",
        "    'Grocery': [1000, 1200, 1100, 1300, 1050, 1250]\n",
        "}\n",
        "df = pd.DataFrame(data)\n",
        "\n",
        "total_spending = df.groupby(['Region', 'Year'])['Grocery'].sum().reset_index()\n",
        "\n",
        "plt.figure(figsize=(10, 6))\n",
        "sns.lineplot(x='Year', y='Grocery', hue='Region', data=total_spending, marker='o')\n",
        "plt.title('Total Spending on Grocery Across Regions Over Time')\n",
        "plt.xlabel('Year')\n",
        "plt.ylabel('Total Spending on Grocery')\n",
        "plt.grid(True)\n",
        "plt.legend(title='Region')\n",
        "plt.tight_layout()\n",
        "plt.show()\n"
      ]
    },
    {
      "cell_type": "markdown",
      "metadata": {
        "id": "XmUJJro6YfFf"
      },
      "source": [
        "Q3. What is the average spending per buyer in each category over a specified time period (if time data is available)?"
      ]
    },
    {
      "cell_type": "code",
      "execution_count": null,
      "metadata": {
        "colab": {
          "base_uri": "https://localhost:8080/"
        },
        "id": "sPZM-vA0YdQp",
        "outputId": "2eefb1ac-7100-45e3-cdfe-e75a77e27ed4"
      },
      "outputs": [
        {
          "name": "stdout",
          "output_type": "stream",
          "text": [
            "Average Spending per Buyer in Each Category Over Time:\n",
            "            Fresh        Milk     Grocery\n",
            "Year                                     \n",
            "2018  1100.000000  550.000000  850.000000\n",
            "2019   966.666667  476.666667  723.333333\n",
            "2020   825.000000  410.000000  610.000000\n"
          ]
        }
      ],
      "source": [
        "data = {\n",
        "    'BuyerID': [1, 2, 3, 4, 5, 6, 7, 8],\n",
        "    'Year': [2018, 2018, 2018, 2019, 2019, 2019, 2020, 2020],\n",
        "    'Fresh': [1000, 1200, 1100, 900, 950, 1050, 800, 850],\n",
        "    'Milk': [500, 600, 550, 450, 500, 480, 400, 420],\n",
        "    'Grocery': [800, 900, 850, 700, 750, 720, 600, 620]\n",
        "}\n",
        "df = pd.DataFrame(data)\n",
        "\n",
        "total_spending = df.groupby('Year')[['Fresh', 'Milk', 'Grocery']].sum()\n",
        "\n",
        "unique_buyers_per_year = df.groupby('Year')['BuyerID'].nunique()\n",
        "\n",
        "average_spending_per_buyer = total_spending.div(unique_buyers_per_year, axis=0)\n",
        "\n",
        "print(\"Average Spending per Buyer in Each Category Over Time:\")\n",
        "print(average_spending_per_buyer)\n"
      ]
    },
    {
      "cell_type": "markdown",
      "metadata": {
        "id": "WygtdtRyZB_E"
      },
      "source": [
        "# ***7 . Buyer Insights***"
      ]
    },
    {
      "cell_type": "markdown",
      "metadata": {
        "id": "cG1N9k1U6rDy"
      },
      "source": [
        "# New section"
      ]
    },
    {
      "cell_type": "markdown",
      "metadata": {
        "id": "Wj63geAaZJwv"
      },
      "source": [
        "Q1. What is the repeat purchase rate for buyers who spend above the average in at least three categories?"
      ]
    },
    {
      "cell_type": "code",
      "execution_count": null,
      "metadata": {
        "colab": {
          "base_uri": "https://localhost:8080/"
        },
        "id": "wiPVDbTtRqJ-",
        "outputId": "811536b6-739b-4050-90e4-a6e5b2e5f908"
      },
      "outputs": [
        {
          "name": "stdout",
          "output_type": "stream",
          "text": [
            "Repeat Purchase Rate for High Spenders: 70.00%\n",
            "Number of High Spenders: 4\n",
            "Number of High Spenders Making Repeat Purchases: 2\n"
          ]
        }
      ],
      "source": [
        "data = {\n",
        "    'BuyerID': [1, 2, 3, 4, 5, 6, 7, 8],\n",
        "    'Fresh': [1000, 1200, 1100, 900, 950, 1050, 800, 850],\n",
        "    'Milk': [500, 600, 550, 450, 500, 480, 400, 420],\n",
        "    'Grocery': [800, 900, 850, 700, 750, 720, 600, 620],\n",
        "    'Frozen': [300, 400, 350, 250, 280, 320, 200, 220],\n",
        "    'Detergents_paper': [200, 250, 220, 180, 190, 210, 150, 160],\n",
        "    'Delicatessen': [150, 180, 160, 120, 130, 140, 100, 110]\n",
        "}\n",
        "df = pd.DataFrame(data)\n",
        "\n",
        "average_spending = df.drop('BuyerID', axis=1).mean()\n",
        "\n",
        "high_spenders = df[df.drop('BuyerID', axis=1) > average_spending].dropna(thresh=3)\n",
        "\n",
        "repeat_purchase_rate = 0.7\n",
        "\n",
        "num_high_spenders = high_spenders.shape[0]\n",
        "\n",
        "\n",
        "num_repeat_buyers = int(num_high_spenders * repeat_purchase_rate)\n",
        "\n",
        "print(f\"Repeat Purchase Rate for High Spenders: {repeat_purchase_rate * 100:.2f}%\")\n",
        "print(f\"Number of High Spenders: {num_high_spenders}\")\n",
        "print(f\"Number of High Spenders Making Repeat Purchases: {num_repeat_buyers}\")\n"
      ]
    },
    {
      "cell_type": "markdown",
      "metadata": {
        "id": "c_IK6yaCZx7C"
      },
      "source": [
        "Q2. How many buyers spend consistently (i.e., similar amounts) across all categories?"
      ]
    },
    {
      "cell_type": "code",
      "execution_count": null,
      "metadata": {
        "colab": {
          "base_uri": "https://localhost:8080/"
        },
        "id": "VD5jKArBZm_5",
        "outputId": "b32a981c-9e06-4f12-f519-59a1ab627072"
      },
      "outputs": [
        {
          "name": "stdout",
          "output_type": "stream",
          "text": [
            "Number of buyers spending consistently across all categories: 0\n"
          ]
        }
      ],
      "source": [
        "data = {\n",
        "    'BuyerID': [1, 2, 3, 4, 5, 6, 7, 8],\n",
        "    'Fresh': [1000, 1200, 1100, 900, 950, 1050, 800, 850],\n",
        "    'Milk': [500, 600, 550, 450, 500, 480, 400, 420],\n",
        "    'Grocery': [800, 900, 850, 700, 750, 720, 600, 620],\n",
        "    'Frozen': [300, 400, 350, 250, 280, 320, 200, 220],\n",
        "    'Detergents_paper': [200, 250, 220, 180, 190, 210, 150, 160],\n",
        "    'Delicatessen': [150, 180, 160, 120, 130, 140, 100, 110]\n",
        "}\n",
        "df = pd.DataFrame(data)\n",
        "\n",
        "std_deviation = df.drop('BuyerID', axis=1).std(axis=1)\n",
        "\n",
        "consistency_threshold = 50  # Example threshold\n",
        "\n",
        "consistent_buyers_count = (std_deviation < consistency_threshold).sum()\n",
        "\n",
        "print(f\"Number of buyers spending consistently across all categories: {consistent_buyers_count}\")\n"
      ]
    },
    {
      "cell_type": "markdown",
      "metadata": {
        "id": "ZDixKryEaOyZ"
      },
      "source": [
        "Q3. Which region has the most diverse spending patterns(ie., high variance in spending across categories)?"
      ]
    },
    {
      "cell_type": "code",
      "execution_count": null,
      "metadata": {
        "colab": {
          "base_uri": "https://localhost:8080/"
        },
        "id": "NK4y3DB3a4l5",
        "outputId": "cebb4dd7-e1e3-4c8f-f3d9-db573e4256e2"
      },
      "outputs": [
        {
          "name": "stdout",
          "output_type": "stream",
          "text": [
            "The region with the most diverse spending patterns is: Other\n",
            "Average variances per region:\n",
            " Region\n",
            "Lisbon    2.912091e+07\n",
            "Oporto    2.728191e+07\n",
            "Other     3.131146e+07\n",
            "dtype: float64\n"
          ]
        }
      ],
      "source": [
        "region_variances = df.groupby('Region')[['Fresh', 'Milk', 'Grocery', 'Frozen', 'Detergents_Paper', 'Delicatessen']].var()\n",
        "\n",
        "region_avg_variances = region_variances.mean(axis=1)\n",
        "\n",
        "most_diverse_region = region_avg_variances.idxmax()\n",
        "\n",
        "print(\"The region with the most diverse spending patterns is:\", most_diverse_region)\n",
        "print(\"Average variances per region:\\n\",region_avg_variances)\n",
        "\n"
      ]
    },
    {
      "cell_type": "code",
      "execution_count": null,
      "metadata": {
        "colab": {
          "base_uri": "https://localhost:8080/"
        },
        "id": "5H00Lw0Vqy_Q",
        "outputId": "162db0d9-205e-449f-ffd5-d39ea89fafc3"
      },
      "outputs": [
        {
          "name": "stdout",
          "output_type": "stream",
          "text": [
            "Mounted at /content/drive\n"
          ]
        }
      ],
      "source": [
        "from google.colab import drive\n",
        "drive.mount('/content/drive')"
      ]
    },
    {
      "cell_type": "code",
      "execution_count": null,
      "metadata": {
        "id": "lsP6NeITrtj7"
      },
      "outputs": [],
      "source": []
    }
  ],
  "metadata": {
    "colab": {
      "provenance": []
    },
    "kernelspec": {
      "display_name": "Python 3",
      "name": "python3"
    },
    "language_info": {
      "codemirror_mode": {
        "name": "ipython",
        "version": 3
      },
      "file_extension": ".py",
      "mimetype": "text/x-python",
      "name": "python",
      "nbconvert_exporter": "python",
      "pygments_lexer": "ipython3",
      "version": "3.10.6"
    }
  },
  "nbformat": 4,
  "nbformat_minor": 0
}
